{
  "cells": [
    {
      "cell_type": "code",
      "source": [
        "!pip install openai"
      ],
      "metadata": {
        "colab": {
          "base_uri": "https://localhost:8080/"
        },
        "id": "7Okpa7sM5G0s",
        "outputId": "2495c977-5d4a-47e1-e59a-cb1f5997499e"
      },
      "id": "7Okpa7sM5G0s",
      "execution_count": null,
      "outputs": [
        {
          "output_type": "stream",
          "name": "stdout",
          "text": [
            "Collecting openai\n",
            "  Downloading openai-0.28.0-py3-none-any.whl (76 kB)\n",
            "\u001b[2K     \u001b[90m━━━━━━━━━━━━━━━━━━━━━━━━━━━━━━━━━━━━━━━━\u001b[0m \u001b[32m76.5/76.5 kB\u001b[0m \u001b[31m1.4 MB/s\u001b[0m eta \u001b[36m0:00:00\u001b[0m\n",
            "\u001b[?25hRequirement already satisfied: requests>=2.20 in /usr/local/lib/python3.10/dist-packages (from openai) (2.31.0)\n",
            "Requirement already satisfied: tqdm in /usr/local/lib/python3.10/dist-packages (from openai) (4.66.1)\n",
            "Requirement already satisfied: aiohttp in /usr/local/lib/python3.10/dist-packages (from openai) (3.8.5)\n",
            "Requirement already satisfied: charset-normalizer<4,>=2 in /usr/local/lib/python3.10/dist-packages (from requests>=2.20->openai) (3.2.0)\n",
            "Requirement already satisfied: idna<4,>=2.5 in /usr/local/lib/python3.10/dist-packages (from requests>=2.20->openai) (3.4)\n",
            "Requirement already satisfied: urllib3<3,>=1.21.1 in /usr/local/lib/python3.10/dist-packages (from requests>=2.20->openai) (2.0.4)\n",
            "Requirement already satisfied: certifi>=2017.4.17 in /usr/local/lib/python3.10/dist-packages (from requests>=2.20->openai) (2023.7.22)\n",
            "Requirement already satisfied: attrs>=17.3.0 in /usr/local/lib/python3.10/dist-packages (from aiohttp->openai) (23.1.0)\n",
            "Requirement already satisfied: multidict<7.0,>=4.5 in /usr/local/lib/python3.10/dist-packages (from aiohttp->openai) (6.0.4)\n",
            "Requirement already satisfied: async-timeout<5.0,>=4.0.0a3 in /usr/local/lib/python3.10/dist-packages (from aiohttp->openai) (4.0.3)\n",
            "Requirement already satisfied: yarl<2.0,>=1.0 in /usr/local/lib/python3.10/dist-packages (from aiohttp->openai) (1.9.2)\n",
            "Requirement already satisfied: frozenlist>=1.1.1 in /usr/local/lib/python3.10/dist-packages (from aiohttp->openai) (1.4.0)\n",
            "Requirement already satisfied: aiosignal>=1.1.2 in /usr/local/lib/python3.10/dist-packages (from aiohttp->openai) (1.3.1)\n",
            "Installing collected packages: openai\n",
            "Successfully installed openai-0.28.0\n"
          ]
        }
      ]
    },
    {
      "cell_type": "code",
      "source": [
        "!pip install langchain"
      ],
      "metadata": {
        "colab": {
          "base_uri": "https://localhost:8080/"
        },
        "id": "X7sxf73t5fJJ",
        "outputId": "6d19e3ae-d9aa-4ef8-d867-f37435a5a5a9"
      },
      "id": "X7sxf73t5fJJ",
      "execution_count": null,
      "outputs": [
        {
          "output_type": "stream",
          "name": "stdout",
          "text": [
            "Collecting langchain\n",
            "  Downloading langchain-0.0.279-py3-none-any.whl (1.6 MB)\n",
            "\u001b[2K     \u001b[90m━━━━━━━━━━━━━━━━━━━━━━━━━━━━━━━━━━━━━━━━\u001b[0m \u001b[32m1.6/1.6 MB\u001b[0m \u001b[31m8.0 MB/s\u001b[0m eta \u001b[36m0:00:00\u001b[0m\n",
            "\u001b[?25hRequirement already satisfied: PyYAML>=5.3 in /usr/local/lib/python3.10/dist-packages (from langchain) (6.0.1)\n",
            "Requirement already satisfied: SQLAlchemy<3,>=1.4 in /usr/local/lib/python3.10/dist-packages (from langchain) (2.0.20)\n",
            "Requirement already satisfied: aiohttp<4.0.0,>=3.8.3 in /usr/local/lib/python3.10/dist-packages (from langchain) (3.8.5)\n",
            "Requirement already satisfied: async-timeout<5.0.0,>=4.0.0 in /usr/local/lib/python3.10/dist-packages (from langchain) (4.0.3)\n",
            "Collecting dataclasses-json<0.6.0,>=0.5.7 (from langchain)\n",
            "  Downloading dataclasses_json-0.5.14-py3-none-any.whl (26 kB)\n",
            "Collecting langsmith<0.1.0,>=0.0.21 (from langchain)\n",
            "  Downloading langsmith-0.0.33-py3-none-any.whl (36 kB)\n",
            "Requirement already satisfied: numexpr<3.0.0,>=2.8.4 in /usr/local/lib/python3.10/dist-packages (from langchain) (2.8.5)\n",
            "Requirement already satisfied: numpy<2,>=1 in /usr/local/lib/python3.10/dist-packages (from langchain) (1.23.5)\n",
            "Requirement already satisfied: pydantic<3,>=1 in /usr/local/lib/python3.10/dist-packages (from langchain) (2.2.1)\n",
            "Requirement already satisfied: requests<3,>=2 in /usr/local/lib/python3.10/dist-packages (from langchain) (2.31.0)\n",
            "Requirement already satisfied: tenacity<9.0.0,>=8.1.0 in /usr/local/lib/python3.10/dist-packages (from langchain) (8.2.3)\n",
            "Requirement already satisfied: attrs>=17.3.0 in /usr/local/lib/python3.10/dist-packages (from aiohttp<4.0.0,>=3.8.3->langchain) (23.1.0)\n",
            "Requirement already satisfied: charset-normalizer<4.0,>=2.0 in /usr/local/lib/python3.10/dist-packages (from aiohttp<4.0.0,>=3.8.3->langchain) (3.2.0)\n",
            "Requirement already satisfied: multidict<7.0,>=4.5 in /usr/local/lib/python3.10/dist-packages (from aiohttp<4.0.0,>=3.8.3->langchain) (6.0.4)\n",
            "Requirement already satisfied: yarl<2.0,>=1.0 in /usr/local/lib/python3.10/dist-packages (from aiohttp<4.0.0,>=3.8.3->langchain) (1.9.2)\n",
            "Requirement already satisfied: frozenlist>=1.1.1 in /usr/local/lib/python3.10/dist-packages (from aiohttp<4.0.0,>=3.8.3->langchain) (1.4.0)\n",
            "Requirement already satisfied: aiosignal>=1.1.2 in /usr/local/lib/python3.10/dist-packages (from aiohttp<4.0.0,>=3.8.3->langchain) (1.3.1)\n",
            "Collecting marshmallow<4.0.0,>=3.18.0 (from dataclasses-json<0.6.0,>=0.5.7->langchain)\n",
            "  Downloading marshmallow-3.20.1-py3-none-any.whl (49 kB)\n",
            "\u001b[2K     \u001b[90m━━━━━━━━━━━━━━━━━━━━━━━━━━━━━━━━━━━━━━━━\u001b[0m \u001b[32m49.4/49.4 kB\u001b[0m \u001b[31m6.0 MB/s\u001b[0m eta \u001b[36m0:00:00\u001b[0m\n",
            "\u001b[?25hCollecting typing-inspect<1,>=0.4.0 (from dataclasses-json<0.6.0,>=0.5.7->langchain)\n",
            "  Downloading typing_inspect-0.9.0-py3-none-any.whl (8.8 kB)\n",
            "Requirement already satisfied: annotated-types>=0.4.0 in /usr/local/lib/python3.10/dist-packages (from pydantic<3,>=1->langchain) (0.5.0)\n",
            "Requirement already satisfied: pydantic-core==2.6.1 in /usr/local/lib/python3.10/dist-packages (from pydantic<3,>=1->langchain) (2.6.1)\n",
            "Requirement already satisfied: typing-extensions>=4.6.1 in /usr/local/lib/python3.10/dist-packages (from pydantic<3,>=1->langchain) (4.7.1)\n",
            "Requirement already satisfied: idna<4,>=2.5 in /usr/local/lib/python3.10/dist-packages (from requests<3,>=2->langchain) (3.4)\n",
            "Requirement already satisfied: urllib3<3,>=1.21.1 in /usr/local/lib/python3.10/dist-packages (from requests<3,>=2->langchain) (2.0.4)\n",
            "Requirement already satisfied: certifi>=2017.4.17 in /usr/local/lib/python3.10/dist-packages (from requests<3,>=2->langchain) (2023.7.22)\n",
            "Requirement already satisfied: greenlet!=0.4.17 in /usr/local/lib/python3.10/dist-packages (from SQLAlchemy<3,>=1.4->langchain) (2.0.2)\n",
            "Requirement already satisfied: packaging>=17.0 in /usr/local/lib/python3.10/dist-packages (from marshmallow<4.0.0,>=3.18.0->dataclasses-json<0.6.0,>=0.5.7->langchain) (23.1)\n",
            "Collecting mypy-extensions>=0.3.0 (from typing-inspect<1,>=0.4.0->dataclasses-json<0.6.0,>=0.5.7->langchain)\n",
            "  Downloading mypy_extensions-1.0.0-py3-none-any.whl (4.7 kB)\n",
            "Installing collected packages: mypy-extensions, marshmallow, typing-inspect, langsmith, dataclasses-json, langchain\n",
            "Successfully installed dataclasses-json-0.5.14 langchain-0.0.279 langsmith-0.0.33 marshmallow-3.20.1 mypy-extensions-1.0.0 typing-inspect-0.9.0\n"
          ]
        }
      ]
    },
    {
      "cell_type": "markdown",
      "id": "98533921",
      "metadata": {
        "id": "98533921"
      },
      "source": [
        "## Outline\n",
        "\n",
        "- Interact with OpenAI via direct API calls\n",
        "- Undestanding API calls through LangChain:\n",
        "    - Models\n",
        "        - LLMs\n",
        "        - Chat Models\n",
        "            - Schema\n",
        "    - Prompts\n",
        "    - Chain\n",
        "    - Memory\n",
        "    - Output parsers"
      ]
    },
    {
      "cell_type": "markdown",
      "id": "f811e984",
      "metadata": {
        "id": "f811e984"
      },
      "source": [
        "To begin, import the necessary dependencies into your project and access the environment file to retrieve the OpenAPI key."
      ]
    },
    {
      "cell_type": "code",
      "execution_count": null,
      "id": "82079e95",
      "metadata": {
        "id": "82079e95"
      },
      "outputs": [],
      "source": [
        "import os\n",
        "import openai\n",
        "os.environ[\"OPENAI_API_KEY\"] = \"sk-Th0ZmtEfXJB9RperrVhpT3BlbkFJzbc1wFVVa**************\""
      ]
    },
    {
      "cell_type": "markdown",
      "id": "e002646a",
      "metadata": {
        "id": "e002646a"
      },
      "source": [
        "LangChain provides interfaces and integrations for two types of models:\n",
        "\n",
        "1. LLMs: Models that take a text string as input and return a text string.\n",
        "\n",
        "2. Chat models: Models that are backed by a language model but take a list of Chat Messages as input and return a Chat Message.\n"
      ]
    },
    {
      "cell_type": "markdown",
      "id": "188ba9c0",
      "metadata": {
        "id": "188ba9c0"
      },
      "source": [
        "Establish a connection with a language model using LangChain"
      ]
    },
    {
      "cell_type": "code",
      "execution_count": null,
      "id": "32988345",
      "metadata": {
        "id": "32988345"
      },
      "outputs": [],
      "source": [
        "from langchain.llms import OpenAI"
      ]
    },
    {
      "cell_type": "code",
      "execution_count": null,
      "id": "2157d0a8",
      "metadata": {
        "id": "2157d0a8"
      },
      "outputs": [],
      "source": [
        "llm = OpenAI()"
      ]
    },
    {
      "cell_type": "code",
      "execution_count": null,
      "id": "a06f6b33",
      "metadata": {
        "id": "a06f6b33",
        "colab": {
          "base_uri": "https://localhost:8080/"
        },
        "outputId": "5be6a215-9577-4d1b-a15f-26e07e31d72b"
      },
      "outputs": [
        {
          "output_type": "execute_result",
          "data": {
            "text/plain": [
              "0.7"
            ]
          },
          "metadata": {},
          "execution_count": 8
        }
      ],
      "source": [
        "llm.temperature"
      ]
    },
    {
      "cell_type": "markdown",
      "id": "85f3e50f",
      "metadata": {
        "id": "85f3e50f"
      },
      "source": [
        "The LLM **<span style=\"background-color: yellow\">temperature</span>** serves as a hyperparameter controlling the level of **<span style=\"background-color: yellow\">randomness</span>**  or creativity in the AI's responses. A higher temperature value generally leads to more diverse and imaginative outputs, but it can also increase the chances of the AI deviating from the intended context."
      ]
    },
    {
      "cell_type": "code",
      "execution_count": null,
      "id": "d33be3f7",
      "metadata": {
        "id": "d33be3f7",
        "colab": {
          "base_uri": "https://localhost:8080/",
          "height": 35
        },
        "outputId": "8998ff2b-fd54-426a-be6c-f82fd3baebd7"
      },
      "outputs": [
        {
          "output_type": "execute_result",
          "data": {
            "text/plain": [
              "'text-davinci-003'"
            ],
            "application/vnd.google.colaboratory.intrinsic+json": {
              "type": "string"
            }
          },
          "metadata": {},
          "execution_count": 9
        }
      ],
      "source": [
        "llm.model_name"
      ]
    },
    {
      "cell_type": "code",
      "execution_count": null,
      "id": "e1879ec3",
      "metadata": {
        "id": "e1879ec3",
        "colab": {
          "base_uri": "https://localhost:8080/",
          "height": 35
        },
        "outputId": "c6d8c994-2b85-4e58-9318-de828907855e"
      },
      "outputs": [
        {
          "output_type": "execute_result",
          "data": {
            "text/plain": [
              "'\\n\\nThe average human will spend six months of their life waiting at red lights.'"
            ],
            "application/vnd.google.colaboratory.intrinsic+json": {
              "type": "string"
            }
          },
          "metadata": {},
          "execution_count": 15
        }
      ],
      "source": [
        "llm(\"tell me something I do not know\")"
      ]
    },
    {
      "cell_type": "code",
      "execution_count": null,
      "id": "2e139c3a",
      "metadata": {
        "id": "2e139c3a"
      },
      "outputs": [],
      "source": [
        "from langchain.chat_models import ChatOpenAI"
      ]
    },
    {
      "cell_type": "code",
      "execution_count": null,
      "id": "82135453",
      "metadata": {
        "id": "82135453"
      },
      "outputs": [],
      "source": [
        "chat = ChatOpenAI()"
      ]
    },
    {
      "cell_type": "code",
      "execution_count": null,
      "id": "136e57db",
      "metadata": {
        "id": "136e57db",
        "colab": {
          "base_uri": "https://localhost:8080/"
        },
        "outputId": "ece33119-466f-45c8-ba6f-6e08ad2d6125"
      },
      "outputs": [
        {
          "output_type": "execute_result",
          "data": {
            "text/plain": [
              "0.7"
            ]
          },
          "metadata": {},
          "execution_count": 18
        }
      ],
      "source": [
        "chat.temperature"
      ]
    },
    {
      "cell_type": "code",
      "execution_count": null,
      "id": "eda0dd60",
      "metadata": {
        "id": "eda0dd60",
        "colab": {
          "base_uri": "https://localhost:8080/",
          "height": 35
        },
        "outputId": "42e6542d-db5d-4e66-a18f-4a145d72b601"
      },
      "outputs": [
        {
          "output_type": "execute_result",
          "data": {
            "text/plain": [
              "'gpt-3.5-turbo'"
            ],
            "application/vnd.google.colaboratory.intrinsic+json": {
              "type": "string"
            }
          },
          "metadata": {},
          "execution_count": 19
        }
      ],
      "source": [
        "chat.model_name"
      ]
    },
    {
      "cell_type": "code",
      "execution_count": null,
      "id": "5deaa00c",
      "metadata": {
        "id": "5deaa00c"
      },
      "outputs": [],
      "source": [
        "from langchain.chat_models import ChatOpenAI\n",
        "from langchain.schema import (\n",
        "    AIMessage,\n",
        "    HumanMessage,\n",
        "    SystemMessage\n",
        ")"
      ]
    },
    {
      "cell_type": "markdown",
      "id": "5c8bda22",
      "metadata": {
        "id": "5c8bda22"
      },
      "source": [
        "`AIMessage`  \n",
        "A chat message representing information coming from the AI system.\n",
        "\n",
        "`HumanMessage`  \n",
        "A chat message representing information coming from a human interacting with the AI system.\n",
        "\n",
        "`SystemMessage`  \n",
        "A chat message representing information that should be instructions to the AI system."
      ]
    },
    {
      "cell_type": "code",
      "execution_count": null,
      "id": "223b08a8",
      "metadata": {
        "id": "223b08a8",
        "colab": {
          "base_uri": "https://localhost:8080/"
        },
        "outputId": "8c5ad905-841a-497f-ec12-f556a4dc1585"
      },
      "outputs": [
        {
          "output_type": "execute_result",
          "data": {
            "text/plain": [
              "AIMessage(content='मुझे प्रकृति पसंद है। (Mujhe prakriti pasand hai.)', additional_kwargs={}, example=False)"
            ]
          },
          "metadata": {},
          "execution_count": 21
        }
      ],
      "source": [
        "chat_model = ChatOpenAI(temperature=0)\n",
        "message=chat_model.predict_messages([HumanMessage(content=\"Can you translate the following sentence into Hindi for me: 'I love nature.\")])\n",
        "message"
      ]
    },
    {
      "cell_type": "markdown",
      "id": "b586476d",
      "metadata": {
        "id": "b586476d"
      },
      "source": [
        "Let's us try to interact with OpenAPI's Chat API using Langchain"
      ]
    },
    {
      "cell_type": "markdown",
      "id": "d30d81de",
      "metadata": {
        "id": "d30d81de"
      },
      "source": [
        "We will now define a template:"
      ]
    },
    {
      "cell_type": "code",
      "execution_count": null,
      "id": "12f49f3a",
      "metadata": {
        "id": "12f49f3a"
      },
      "outputs": [],
      "source": [
        "template_string = \"\"\"Fill in the details \\\n",
        "that are required for {purpose}. \\\n",
        "Include the following information: {info}.\n",
        "\"\"\""
      ]
    },
    {
      "cell_type": "code",
      "execution_count": null,
      "id": "a933d552",
      "metadata": {
        "id": "a933d552"
      },
      "outputs": [],
      "source": [
        "from langchain.prompts import ChatPromptTemplate\n",
        "\n",
        "prompt_template = ChatPromptTemplate.from_template(template_string)"
      ]
    },
    {
      "cell_type": "code",
      "execution_count": null,
      "id": "096c5516",
      "metadata": {
        "id": "096c5516"
      },
      "outputs": [],
      "source": [
        "prompt_template.messages[0].prompt"
      ]
    },
    {
      "cell_type": "code",
      "execution_count": null,
      "id": "f8c15645",
      "metadata": {
        "id": "f8c15645"
      },
      "outputs": [],
      "source": [
        "prompt_template.messages[0].prompt.input_variables"
      ]
    },
    {
      "cell_type": "code",
      "execution_count": null,
      "id": "0f7793c3",
      "metadata": {
        "id": "0f7793c3"
      },
      "outputs": [],
      "source": [
        "customer_style = \"\"\"Indian English \\\n",
        "in a calm and respectful tone\n",
        "\"\"\""
      ]
    },
    {
      "cell_type": "code",
      "execution_count": null,
      "id": "d1cf9732",
      "metadata": {
        "id": "d1cf9732"
      },
      "outputs": [],
      "source": [
        "customer_email = \"\"\"\n",
        "I'm interested in purchasing a Honda Civic 2022 and would like to know if you have it in stock. \\\n",
        "Availability: Is the Honda Civic 2022 currently available? \\\n",
        "Price: What is the price for the Honda Civic 2022? \\\n",
        "Options: Are there any additional options or packages available? \\\n",
        "\"\"\""
      ]
    },
    {
      "cell_type": "code",
      "execution_count": null,
      "id": "f3abad5a",
      "metadata": {
        "id": "f3abad5a"
      },
      "outputs": [],
      "source": [
        "customer_messages = prompt_template.format_messages(\n",
        "                    info=customer_style,\n",
        "                    purpose=customer_email)"
      ]
    },
    {
      "cell_type": "code",
      "execution_count": null,
      "id": "21aa6253",
      "metadata": {
        "id": "21aa6253"
      },
      "outputs": [],
      "source": [
        "print(type(customer_messages))\n",
        "print(type(customer_messages[0]))"
      ]
    },
    {
      "cell_type": "code",
      "execution_count": null,
      "id": "b520c13e",
      "metadata": {
        "id": "b520c13e"
      },
      "outputs": [],
      "source": [
        "print(customer_messages[0])"
      ]
    },
    {
      "cell_type": "code",
      "execution_count": null,
      "id": "6fc12f69",
      "metadata": {
        "id": "6fc12f69"
      },
      "outputs": [],
      "source": [
        "customer_response = chat(customer_messages)"
      ]
    },
    {
      "cell_type": "code",
      "execution_count": null,
      "id": "41359090",
      "metadata": {
        "id": "41359090"
      },
      "outputs": [],
      "source": [
        "print(customer_response.content)"
      ]
    },
    {
      "cell_type": "code",
      "execution_count": null,
      "id": "17a3629a",
      "metadata": {
        "id": "17a3629a"
      },
      "outputs": [],
      "source": [
        "sales_reply = \"\"\"Thank you for your inquiry regarding the Honda Civic 2022 \\\n",
        "Availability: Yes, the Honda Civic 2022 is in stock. \\\n",
        "Price: The price for the Honda Civic 2022 starts at ₹22,50,000. \\\n",
        "Options: We offer various customization options and packages for the Honda Civic 2022 to suit your preferences. \\\n",
        "please feel free to reach out to our sales team at 9234567890 or visit our dealership. \\\n",
        "\"\"\""
      ]
    },
    {
      "cell_type": "code",
      "execution_count": null,
      "id": "765880f0",
      "metadata": {
        "id": "765880f0"
      },
      "outputs": [],
      "source": [
        "sales_style = \"\"\"\\\n",
        "a polite tone \\\n",
        "that speaks in steve harvey style \\\n",
        "\"\"\""
      ]
    },
    {
      "cell_type": "code",
      "execution_count": null,
      "id": "bd347948",
      "metadata": {
        "id": "bd347948"
      },
      "outputs": [],
      "source": [
        "sales_messages = prompt_template.format_messages(\n",
        "    info=sales_style,\n",
        "    purpose=sales_reply)\n",
        "\n",
        "print(sales_messages[0].content)"
      ]
    },
    {
      "cell_type": "code",
      "execution_count": null,
      "id": "d1562e20",
      "metadata": {
        "id": "d1562e20"
      },
      "outputs": [],
      "source": [
        "sales_response = chat(sales_messages)"
      ]
    },
    {
      "cell_type": "code",
      "execution_count": null,
      "id": "a4f1a9f9",
      "metadata": {
        "id": "a4f1a9f9"
      },
      "outputs": [],
      "source": [
        "print(sales_response.content)"
      ]
    },
    {
      "cell_type": "markdown",
      "id": "602fae4a",
      "metadata": {
        "id": "602fae4a"
      },
      "source": [
        "### Let's establish the desired format for the output generated by the Language Model:"
      ]
    },
    {
      "cell_type": "code",
      "execution_count": null,
      "id": "4619dac1",
      "metadata": {
        "id": "4619dac1"
      },
      "outputs": [],
      "source": [
        "from langchain.prompts import PromptTemplate\n",
        "from langchain.llms import OpenAI\n",
        "from langchain.output_parsers import PydanticOutputParser\n",
        "from pydantic import BaseModel, Field"
      ]
    },
    {
      "cell_type": "code",
      "execution_count": null,
      "id": "9fc7cd19",
      "metadata": {
        "id": "9fc7cd19"
      },
      "outputs": [],
      "source": [
        "# Define the data model for a car sale\n",
        "class CarSale(BaseModel):\n",
        "    model: str = Field(description=\"name of the car model\")\n",
        "    year: int = Field(description=\"year of manufacture\")\n",
        "    price: float = Field(description=\"price in INR\")\n",
        "    color: str = Field(description=\"color of the car\")"
      ]
    },
    {
      "cell_type": "code",
      "execution_count": null,
      "id": "0a76addf",
      "metadata": {
        "id": "0a76addf"
      },
      "outputs": [],
      "source": [
        "# Define the query for generating a car sale\n",
        "car_sale_query = \"Generate a JSON object for a honda city car sale.\"\n",
        "\n",
        "# Set up the parser and the prompt template\n",
        "parser = PydanticOutputParser(pydantic_object=CarSale)\n",
        "prompt = PromptTemplate(\n",
        "    template=\"Answer the user query.\\n{format_instructions}\\n{query}\\n\",\n",
        "    input_variables=[\"query\"],\n",
        "    partial_variables={\"format_instructions\": parser.get_format_instructions()},\n",
        ")"
      ]
    },
    {
      "cell_type": "code",
      "execution_count": null,
      "id": "dfabe984",
      "metadata": {
        "id": "dfabe984"
      },
      "outputs": [],
      "source": [
        "# Choose an LLM and a temperature\n",
        "model_name = \"text-davinci-003\"\n",
        "temperature = 0.0\n",
        "model = OpenAI(model_name=model_name, temperature=temperature)"
      ]
    },
    {
      "cell_type": "code",
      "execution_count": null,
      "id": "f33fb52b",
      "metadata": {
        "id": "f33fb52b"
      },
      "outputs": [],
      "source": [
        "# Generate the output and parse it\n",
        "_input = prompt.format_prompt(query=car_sale_query)\n",
        "output = model(_input.to_string())\n",
        "parser.parse(output)"
      ]
    },
    {
      "cell_type": "markdown",
      "id": "40836449",
      "metadata": {
        "id": "40836449"
      },
      "source": [
        "# Memory\n",
        "    - ConversationBufferMemory\n",
        "    - ConversationBufferWindowMemory\n",
        "    - ConversationSummaryMemory"
      ]
    },
    {
      "cell_type": "code",
      "execution_count": null,
      "id": "9a19183e",
      "metadata": {
        "id": "9a19183e"
      },
      "outputs": [],
      "source": [
        "from langchain.chat_models import ChatOpenAI\n",
        "from langchain.chains import ConversationChain\n",
        "from langchain.memory import ConversationBufferMemory, ConversationBufferWindowMemory, ConversationSummaryBufferMemory"
      ]
    },
    {
      "cell_type": "code",
      "execution_count": null,
      "id": "6f2dce22",
      "metadata": {
        "id": "6f2dce22"
      },
      "outputs": [],
      "source": [
        "llm = ChatOpenAI(temperature=0.0)\n",
        "memory = ConversationBufferMemory()\n",
        "conversation = ConversationChain(\n",
        "    llm=llm,\n",
        "    memory = memory,\n",
        "#     verbose=True\n",
        ")"
      ]
    },
    {
      "cell_type": "code",
      "execution_count": null,
      "id": "8ee08363",
      "metadata": {
        "id": "8ee08363"
      },
      "outputs": [],
      "source": [
        "conversation.predict(input=\"Hi, How are you today? \")"
      ]
    },
    {
      "cell_type": "code",
      "execution_count": null,
      "id": "854666e4",
      "metadata": {
        "id": "854666e4"
      },
      "outputs": [],
      "source": [
        "conversation.predict(input=\"I'm Vaibhav and taking a workshop on cooking clases in indian cusines\")"
      ]
    },
    {
      "cell_type": "code",
      "execution_count": null,
      "id": "b50e4d3e",
      "metadata": {
        "id": "b50e4d3e"
      },
      "outputs": [],
      "source": [
        "conversation.predict(input=\"I'm can you give few options in 20 words\")"
      ]
    },
    {
      "cell_type": "code",
      "execution_count": null,
      "id": "5b65fd4d",
      "metadata": {
        "id": "5b65fd4d"
      },
      "outputs": [],
      "source": [
        "print(memory.buffer)"
      ]
    },
    {
      "cell_type": "code",
      "execution_count": null,
      "id": "2a1c7167",
      "metadata": {
        "id": "2a1c7167"
      },
      "outputs": [],
      "source": [
        "memory.load_memory_variables({})"
      ]
    },
    {
      "cell_type": "code",
      "execution_count": null,
      "id": "b17705e5",
      "metadata": {
        "id": "b17705e5"
      },
      "outputs": [],
      "source": [
        "memory = ConversationBufferWindowMemory(k=1)"
      ]
    },
    {
      "cell_type": "code",
      "execution_count": null,
      "id": "3c8cd3a9",
      "metadata": {
        "id": "3c8cd3a9"
      },
      "outputs": [],
      "source": [
        "conversation.predict(input=\"whats my name\")"
      ]
    },
    {
      "cell_type": "code",
      "execution_count": null,
      "id": "28af67e9",
      "metadata": {
        "id": "28af67e9"
      },
      "outputs": [],
      "source": [
        "recipe = \"Preheat oven to 375 degrees F. \\\n",
        "In a large bowl, toss apples with lemon juice and vanilla. \\\n",
        "Mix in 1/4 cup of sugar, 1/4 cup of flour, cinnamon, nutmeg and salt. \\\n",
        "Pour apple mixture into a 9x13 inch baking dish. \\\n",
        "In another bowl, combine oats, brown sugar, butter and remaining flour. \\\n",
        "Sprinkle over apple mixture. \\\n",
        "Bake for 25 to 30 minutes or until apples are tender and topping is golden brown.\"\n",
        "\n",
        "memory = ConversationSummaryBufferMemory(llm=llm, max_token_limit=100)\n",
        "memory.save_context({\"input\": \"Hi, I'm Vaibhav\"}, {\"output\": \"Hello, I'm Pooja\"})\n",
        "memory.save_context({\"input\": \"Do you like apple crisp?\"},\n",
        "                    {\"output\": \"Yes, I love it\"})\n",
        "memory.save_context({\"input\": \"Do you know how to make it?\"},\n",
        "                    {\"output\": f\"{recipe}\"})"
      ]
    },
    {
      "cell_type": "code",
      "execution_count": null,
      "id": "4d0f4582",
      "metadata": {
        "id": "4d0f4582"
      },
      "outputs": [],
      "source": [
        "memory.load_memory_variables({})"
      ]
    },
    {
      "cell_type": "markdown",
      "id": "11d38748",
      "metadata": {
        "id": "11d38748"
      },
      "source": [
        "# Chain\n",
        "\n",
        "- LLMChain\n",
        "- Sequential Chains\n",
        "    - SimpleSequentialChain\n",
        "    - SequentialChain\n",
        "- Router Chain\n"
      ]
    },
    {
      "cell_type": "code",
      "execution_count": null,
      "id": "96dc9e22",
      "metadata": {
        "id": "96dc9e22"
      },
      "outputs": [],
      "source": [
        "import pandas as pd\n",
        "df = pd.read_csv('./llmsdemo/Leads.csv')"
      ]
    },
    {
      "cell_type": "code",
      "execution_count": null,
      "id": "dfe60721",
      "metadata": {
        "id": "dfe60721"
      },
      "outputs": [],
      "source": [
        "df.head()"
      ]
    },
    {
      "cell_type": "code",
      "execution_count": null,
      "id": "73d67b4e",
      "metadata": {
        "id": "73d67b4e"
      },
      "outputs": [],
      "source": [
        "column_name = df.columns.tolist()"
      ]
    },
    {
      "cell_type": "code",
      "execution_count": null,
      "id": "3d49ee85",
      "metadata": {
        "id": "3d49ee85"
      },
      "outputs": [],
      "source": [
        "column_name"
      ]
    },
    {
      "cell_type": "code",
      "execution_count": null,
      "id": "938bcfdc",
      "metadata": {
        "id": "938bcfdc"
      },
      "outputs": [],
      "source": [
        "from langchain.chat_models import ChatOpenAI\n",
        "from langchain.prompts import ChatPromptTemplate\n",
        "from langchain.chains import LLMChain"
      ]
    },
    {
      "cell_type": "code",
      "execution_count": null,
      "id": "7e71626b",
      "metadata": {
        "id": "7e71626b"
      },
      "outputs": [],
      "source": [
        "llm = ChatOpenAI(temperature=0.9)"
      ]
    },
    {
      "cell_type": "code",
      "execution_count": null,
      "id": "53ac31ab",
      "metadata": {
        "id": "53ac31ab"
      },
      "outputs": [],
      "source": [
        "prompt = ChatPromptTemplate.from_template(\n",
        "    \"What is the most common lead source?\" \\\n",
        "    \"lead profile contain{query}\"\n",
        "\n",
        ")"
      ]
    },
    {
      "cell_type": "code",
      "execution_count": null,
      "id": "c160108d",
      "metadata": {
        "id": "c160108d"
      },
      "outputs": [],
      "source": [
        "chain = LLMChain(llm=llm, prompt=prompt)"
      ]
    },
    {
      "cell_type": "code",
      "execution_count": null,
      "id": "cc023fba",
      "metadata": {
        "id": "cc023fba"
      },
      "outputs": [],
      "source": [
        "query = \"mumbai\"\n",
        "chain.run(query)"
      ]
    },
    {
      "cell_type": "code",
      "execution_count": null,
      "id": "5f759ea2",
      "metadata": {
        "id": "5f759ea2"
      },
      "outputs": [],
      "source": [
        "from langchain.chains import SimpleSequentialChain"
      ]
    },
    {
      "cell_type": "markdown",
      "id": "b58ca1fa",
      "metadata": {
        "id": "b58ca1fa"
      },
      "source": [
        "SimpleSequentialChain"
      ]
    },
    {
      "cell_type": "markdown",
      "id": "e398d040",
      "metadata": {
        "id": "e398d040"
      },
      "source": [
        "# First Chain"
      ]
    },
    {
      "cell_type": "code",
      "execution_count": null,
      "id": "b2b65660",
      "metadata": {
        "id": "b2b65660"
      },
      "outputs": [],
      "source": [
        "first_prompt = ChatPromptTemplate.from_template( \"How many {column_name} values are missing in the dataset?\")\n",
        "chain_first = LLMChain(llm=llm, prompt=first_prompt)"
      ]
    },
    {
      "cell_type": "markdown",
      "id": "dcf7dd51",
      "metadata": {
        "id": "dcf7dd51"
      },
      "source": [
        "# Second Chain"
      ]
    },
    {
      "cell_type": "code",
      "execution_count": null,
      "id": "23c1ce95",
      "metadata": {
        "id": "23c1ce95"
      },
      "outputs": [],
      "source": [
        "second_prompt = ChatPromptTemplate.from_template( \"What is the distribution of {column_name} values in the dataset?\")\n",
        "chain_second = LLMChain(llm=llm, prompt=second_prompt)"
      ]
    },
    {
      "cell_type": "code",
      "execution_count": null,
      "id": "60fd3f68",
      "metadata": {
        "id": "60fd3f68"
      },
      "outputs": [],
      "source": [
        "overall_simple_chain = SimpleSequentialChain(chains=[chain_first, chain_second],\n",
        "                                             verbose=True)"
      ]
    },
    {
      "cell_type": "code",
      "execution_count": null,
      "id": "ff5e74ed",
      "metadata": {
        "id": "ff5e74ed"
      },
      "outputs": [],
      "source": [
        "overall_simple_chain.run(column_name)"
      ]
    },
    {
      "cell_type": "markdown",
      "id": "6eacee60",
      "metadata": {
        "id": "6eacee60"
      },
      "source": [
        "### Interacting with your own data locally"
      ]
    },
    {
      "cell_type": "code",
      "execution_count": null,
      "id": "4883e688",
      "metadata": {
        "id": "4883e688"
      },
      "outputs": [],
      "source": [
        "from langchain.chains import RetrievalQA\n",
        "from langchain.chat_models import ChatOpenAI\n",
        "from langchain.document_loaders import CSVLoader\n",
        "from langchain.vectorstores import DocArrayInMemorySearch\n",
        "from IPython.display import display, Markdown\n",
        "from langchain.indexes import VectorstoreIndexCreator\n",
        "import langchain"
      ]
    },
    {
      "cell_type": "code",
      "execution_count": null,
      "id": "063c1e49",
      "metadata": {
        "id": "063c1e49"
      },
      "outputs": [],
      "source": [
        "loader = CSVLoader(file_path='./llmsdemo/leads_small.csv')"
      ]
    },
    {
      "cell_type": "code",
      "execution_count": null,
      "id": "5090f212",
      "metadata": {
        "id": "5090f212"
      },
      "outputs": [],
      "source": [
        "index = VectorstoreIndexCreator(\n",
        "    vectorstore_cls=DocArrayInMemorySearch\n",
        ").from_loaders([loader])"
      ]
    },
    {
      "cell_type": "code",
      "execution_count": null,
      "id": "f9ad77f4",
      "metadata": {
        "id": "f9ad77f4"
      },
      "outputs": [],
      "source": [
        "index"
      ]
    },
    {
      "cell_type": "code",
      "execution_count": null,
      "id": "96d95d08",
      "metadata": {
        "id": "96d95d08"
      },
      "outputs": [],
      "source": [
        "query = \"what are the unique leads origins in the dataset\""
      ]
    },
    {
      "cell_type": "code",
      "execution_count": null,
      "id": "c54ae6d3",
      "metadata": {
        "id": "c54ae6d3"
      },
      "outputs": [],
      "source": [
        "response = index.query(query)"
      ]
    },
    {
      "cell_type": "code",
      "execution_count": null,
      "id": "922fde48",
      "metadata": {
        "id": "922fde48"
      },
      "outputs": [],
      "source": [
        "display(Markdown(response))"
      ]
    },
    {
      "cell_type": "markdown",
      "id": "3afc16bd",
      "metadata": {
        "id": "3afc16bd"
      },
      "source": [
        "### Evaluation"
      ]
    },
    {
      "cell_type": "code",
      "execution_count": null,
      "id": "266392e3",
      "metadata": {
        "id": "266392e3"
      },
      "outputs": [],
      "source": [
        "from langchain.evaluation.qa import QAGenerateChain"
      ]
    },
    {
      "cell_type": "code",
      "execution_count": null,
      "id": "a207d762",
      "metadata": {
        "id": "a207d762"
      },
      "outputs": [],
      "source": [
        "file = './llmsdemo/leads_small.csv'\n",
        "loader = CSVLoader(file_path=file)\n",
        "data = loader.load()"
      ]
    },
    {
      "cell_type": "code",
      "execution_count": null,
      "id": "0c03fa17",
      "metadata": {
        "id": "0c03fa17",
        "outputId": "c7274954-4d53-459c-d64c-9cc4b39b5a6a"
      },
      "outputs": [
        {
          "data": {
            "text/plain": [
              "<langchain.document_loaders.csv_loader.CSVLoader at 0x1215e4a50>"
            ]
          },
          "execution_count": 41,
          "metadata": {},
          "output_type": "execute_result"
        }
      ],
      "source": [
        "loader"
      ]
    },
    {
      "cell_type": "code",
      "execution_count": null,
      "id": "e0bc2750",
      "metadata": {
        "id": "e0bc2750"
      },
      "outputs": [],
      "source": [
        "index = VectorstoreIndexCreator(\n",
        "    vectorstore_cls=DocArrayInMemorySearch\n",
        ").from_loaders([loader])"
      ]
    },
    {
      "cell_type": "code",
      "execution_count": null,
      "id": "531ddc3f",
      "metadata": {
        "id": "531ddc3f"
      },
      "outputs": [],
      "source": [
        "llm = ChatOpenAI(temperature = 0.0)\n",
        "qa = RetrievalQA.from_chain_type(\n",
        "    llm=llm,\n",
        "    chain_type=\"stuff\",\n",
        "    retriever=index.vectorstore.as_retriever(),\n",
        "    verbose=True,\n",
        "    chain_type_kwargs = {\n",
        "        \"document_separator\": \"<<<<>>>>>\"\n",
        "    }\n",
        ")"
      ]
    },
    {
      "cell_type": "code",
      "execution_count": null,
      "id": "1f60f35f",
      "metadata": {
        "id": "1f60f35f",
        "outputId": "6bee90e0-b646-4038-b892-e435cac4d36b"
      },
      "outputs": [
        {
          "data": {
            "text/plain": [
              "Document(page_content='\\ufeffProspect ID: 7927b2df-8bba-4d29-b9a2-b6e0beafe620\\nLead Number: 660737\\nLead Origin: API\\nLead Source: Olark Chat\\nDo Not Email: No\\nDo Not Call: No\\nConverted: 0\\nTotalVisits: 0\\nTotal Time Spent on Website: 0\\nPage Views Per Visit: 0\\nLast Activity: Page Visited on Website\\nCountry: \\nSpecialization: Select\\nHow did you hear about X Education: Select\\nWhat is your current occupation: Unemployed\\nWhat matters most to you in choosing a course: Better Career Prospects\\nSearch: No\\nMagazine: No\\nNewspaper Article: No\\nX Education Forums: No\\nNewspaper: No\\nDigital Advertisement: No\\nThrough Recommendations: No\\nReceive More Updates About Our Courses: No\\nTags: Interested in other courses\\nLead Quality: Low in Relevance\\nUpdate me on Supply Chain Content: No\\nGet updates on DM Content: No\\nLead Profile: Select\\nCity: Select\\nAsymmetrique Activity Index: 02.Medium\\nAsymmetrique Profile Index: 02.Medium\\nAsymmetrique Activity Score: 15\\nAsymmetrique Profile Score: 15\\nI agree to pay the amount through cheque: No\\nA free copy of Mastering The Interview: No\\nLast Notable Activity: Modified', metadata={'source': './llmsdemo/leads_small.csv', 'row': 0})"
            ]
          },
          "execution_count": 31,
          "metadata": {},
          "output_type": "execute_result"
        }
      ],
      "source": [
        "data[0]"
      ]
    },
    {
      "cell_type": "code",
      "execution_count": null,
      "id": "c0a9f368",
      "metadata": {
        "id": "c0a9f368"
      },
      "outputs": [],
      "source": [
        "example_gen_chain = QAGenerateChain.from_llm(ChatOpenAI())"
      ]
    },
    {
      "cell_type": "code",
      "execution_count": null,
      "id": "cfc52ecb",
      "metadata": {
        "id": "cfc52ecb"
      },
      "outputs": [],
      "source": [
        "new_examples = example_gen_chain.apply_and_parse(\n",
        "    [{\"doc\": t} for t in data[:5]]\n",
        ")"
      ]
    },
    {
      "cell_type": "code",
      "execution_count": null,
      "id": "8a75d8c4",
      "metadata": {
        "id": "8a75d8c4",
        "outputId": "64de1aad-347f-4f62-a0b9-3afc83ae5ac0"
      },
      "outputs": [
        {
          "data": {
            "text/plain": [
              "{'query': 'What is the Lead Number mentioned in the document?',\n",
              " 'answer': 'The Lead Number mentioned in the document is 660737.'}"
            ]
          },
          "execution_count": 34,
          "metadata": {},
          "output_type": "execute_result"
        }
      ],
      "source": [
        "new_examples[0]"
      ]
    },
    {
      "cell_type": "code",
      "execution_count": null,
      "id": "874c4f8d",
      "metadata": {
        "id": "874c4f8d"
      },
      "outputs": [],
      "source": [
        "from langchain.evaluation.qa import QAEvalChain"
      ]
    },
    {
      "cell_type": "code",
      "execution_count": null,
      "id": "8967a63e",
      "metadata": {
        "id": "8967a63e"
      },
      "outputs": [],
      "source": [
        "llm = ChatOpenAI(temperature=0)\n",
        "eval_chain = QAEvalChain.from_llm(llm)"
      ]
    },
    {
      "cell_type": "code",
      "execution_count": null,
      "id": "f6762454",
      "metadata": {
        "id": "f6762454"
      },
      "outputs": [],
      "source": [
        "langchain.debug = True"
      ]
    },
    {
      "cell_type": "code",
      "execution_count": null,
      "id": "c4944a6d",
      "metadata": {
        "id": "c4944a6d",
        "outputId": "8ed4d663-c55a-457f-ea85-6efcd4ee6f76"
      },
      "outputs": [
        {
          "name": "stdout",
          "output_type": "stream",
          "text": [
            "\u001b[32;1m\u001b[1;3m[chain/start]\u001b[0m \u001b[1m[1:chain:RetrievalQA] Entering Chain run with input:\n",
            "\u001b[0m{\n",
            "  \"query\": \"What is the Lead Number mentioned in the document?\",\n",
            "  \"answer\": \"The Lead Number mentioned in the document is 660737.\"\n",
            "}\n",
            "\u001b[32;1m\u001b[1;3m[chain/start]\u001b[0m \u001b[1m[1:chain:RetrievalQA > 3:chain:StuffDocumentsChain] Entering Chain run with input:\n",
            "\u001b[0m[inputs]\n",
            "\u001b[32;1m\u001b[1;3m[chain/start]\u001b[0m \u001b[1m[1:chain:RetrievalQA > 3:chain:StuffDocumentsChain > 4:chain:LLMChain] Entering Chain run with input:\n",
            "\u001b[0m{\n",
            "  \"question\": \"What is the Lead Number mentioned in the document?\",\n",
            "  \"context\": \"﻿Prospect ID: 88867067-3750-4753-8d33-1c7d1db53b5e\\nLead Number: 660558\\nLead Origin: Landing Page Submission\\nLead Source: Organic Search\\nDo Not Email: No\\nDo Not Call: No\\nConverted: 0\\nTotalVisits: 5\\nTotal Time Spent on Website: 170\\nPage Views Per Visit: 5\\nLast Activity: Email Opened\\nCountry: India\\nSpecialization: Business Administration\\nHow did you hear about X Education: Select\\nWhat is your current occupation: Unemployed\\nWhat matters most to you in choosing a course: Better Career Prospects\\nSearch: No\\nMagazine: No\\nNewspaper Article: No\\nX Education Forums: No\\nNewspaper: No\\nDigital Advertisement: No\\nThrough Recommendations: No\\nReceive More Updates About Our Courses: No\\nTags: Ringing\\nLead Quality: \\nUpdate me on Supply Chain Content: No\\nGet updates on DM Content: No\\nLead Profile: Select\\nCity: Thane & Outskirts\\nAsymmetrique Activity Index: 02.Medium\\nAsymmetrique Profile Index: 01.High\\nAsymmetrique Activity Score: 14\\nAsymmetrique Profile Score: 17\\nI agree to pay the amount through cheque: No<<<<>>>>>﻿Prospect ID: 0cc2df48-7cf4-4e39-9de9-19797f9b38cc\\nLead Number: 660719\\nLead Origin: Landing Page Submission\\nLead Source: Direct Traffic\\nDo Not Email: No\\nDo Not Call: No\\nConverted: 0\\nTotalVisits: 1\\nTotal Time Spent on Website: 305\\nPage Views Per Visit: 1\\nLast Activity: Unreachable\\nCountry: India\\nSpecialization: Media and Advertising\\nHow did you hear about X Education: Word Of Mouth\\nWhat is your current occupation: Unemployed\\nWhat matters most to you in choosing a course: Better Career Prospects\\nSearch: No\\nMagazine: No\\nNewspaper Article: No\\nX Education Forums: No\\nNewspaper: No\\nDigital Advertisement: No\\nThrough Recommendations: No\\nReceive More Updates About Our Courses: No\\nTags: Ringing\\nLead Quality: Not Sure\\nUpdate me on Supply Chain Content: No\\nGet updates on DM Content: No\\nLead Profile: Select\\nCity: Mumbai\\nAsymmetrique Activity Index: 02.Medium\\nAsymmetrique Profile Index: 01.High\\nAsymmetrique Activity Score: 13\\nAsymmetrique Profile Score: 17\\nI agree to pay the amount through cheque: No<<<<>>>>>﻿Prospect ID: a8531c22-fcf1-48f8-a711-fb5abf98ad87\\nLead Number: 660553\\nLead Origin: Landing Page Submission\\nLead Source: Direct Traffic\\nDo Not Email: Yes\\nDo Not Call: No\\nConverted: 0\\nTotalVisits: 1\\nTotal Time Spent on Website: 481\\nPage Views Per Visit: 1\\nLast Activity: Email Bounced\\nCountry: Russia\\nSpecialization: Business Administration\\nHow did you hear about X Education: Select\\nWhat is your current occupation: Unemployed\\nWhat matters most to you in choosing a course: Better Career Prospects\\nSearch: No\\nMagazine: No\\nNewspaper Article: No\\nX Education Forums: No\\nNewspaper: No\\nDigital Advertisement: No\\nThrough Recommendations: No\\nReceive More Updates About Our Courses: No\\nTags: \\nLead Quality: \\nUpdate me on Supply Chain Content: No\\nGet updates on DM Content: No\\nLead Profile: Select\\nCity: Select\\nAsymmetrique Activity Index: 01.High\\nAsymmetrique Profile Index: 01.High\\nAsymmetrique Activity Score: 16\\nAsymmetrique Profile Score: 17\\nI agree to pay the amount through cheque: No<<<<>>>>>﻿Prospect ID: 3abb7c77-1634-4083-9a9f-861068220611\\nLead Number: 660540\\nLead Origin: API\\nLead Source: Olark Chat\\nDo Not Email: No\\nDo Not Call: No\\nConverted: 0\\nTotalVisits: 0\\nTotal Time Spent on Website: 0\\nPage Views Per Visit: 0\\nLast Activity: Olark Chat Conversation\\nCountry: \\nSpecialization: \\nHow did you hear about X Education: \\nWhat is your current occupation: \\nWhat matters most to you in choosing a course: \\nSearch: No\\nMagazine: No\\nNewspaper Article: No\\nX Education Forums: No\\nNewspaper: No\\nDigital Advertisement: No\\nThrough Recommendations: No\\nReceive More Updates About Our Courses: No\\nTags: \\nLead Quality: \\nUpdate me on Supply Chain Content: No\\nGet updates on DM Content: No\\nLead Profile: \\nCity: \\nAsymmetrique Activity Index: 01.High\\nAsymmetrique Profile Index: 02.Medium\\nAsymmetrique Activity Score: 17\\nAsymmetrique Profile Score: 15\\nI agree to pay the amount through cheque: No\\nA free copy of Mastering The Interview: No\\nLast Notable Activity: Modified\"\n",
            "}\n",
            "\u001b[32;1m\u001b[1;3m[llm/start]\u001b[0m \u001b[1m[1:chain:RetrievalQA > 3:chain:StuffDocumentsChain > 4:chain:LLMChain > 5:llm:ChatOpenAI] Entering LLM run with input:\n",
            "\u001b[0m{\n",
            "  \"prompts\": [\n",
            "    \"System: Use the following pieces of context to answer the users question. \\nIf you don't know the answer, just say that you don't know, don't try to make up an answer.\\n----------------\\n﻿Prospect ID: 88867067-3750-4753-8d33-1c7d1db53b5e\\nLead Number: 660558\\nLead Origin: Landing Page Submission\\nLead Source: Organic Search\\nDo Not Email: No\\nDo Not Call: No\\nConverted: 0\\nTotalVisits: 5\\nTotal Time Spent on Website: 170\\nPage Views Per Visit: 5\\nLast Activity: Email Opened\\nCountry: India\\nSpecialization: Business Administration\\nHow did you hear about X Education: Select\\nWhat is your current occupation: Unemployed\\nWhat matters most to you in choosing a course: Better Career Prospects\\nSearch: No\\nMagazine: No\\nNewspaper Article: No\\nX Education Forums: No\\nNewspaper: No\\nDigital Advertisement: No\\nThrough Recommendations: No\\nReceive More Updates About Our Courses: No\\nTags: Ringing\\nLead Quality: \\nUpdate me on Supply Chain Content: No\\nGet updates on DM Content: No\\nLead Profile: Select\\nCity: Thane & Outskirts\\nAsymmetrique Activity Index: 02.Medium\\nAsymmetrique Profile Index: 01.High\\nAsymmetrique Activity Score: 14\\nAsymmetrique Profile Score: 17\\nI agree to pay the amount through cheque: No<<<<>>>>>﻿Prospect ID: 0cc2df48-7cf4-4e39-9de9-19797f9b38cc\\nLead Number: 660719\\nLead Origin: Landing Page Submission\\nLead Source: Direct Traffic\\nDo Not Email: No\\nDo Not Call: No\\nConverted: 0\\nTotalVisits: 1\\nTotal Time Spent on Website: 305\\nPage Views Per Visit: 1\\nLast Activity: Unreachable\\nCountry: India\\nSpecialization: Media and Advertising\\nHow did you hear about X Education: Word Of Mouth\\nWhat is your current occupation: Unemployed\\nWhat matters most to you in choosing a course: Better Career Prospects\\nSearch: No\\nMagazine: No\\nNewspaper Article: No\\nX Education Forums: No\\nNewspaper: No\\nDigital Advertisement: No\\nThrough Recommendations: No\\nReceive More Updates About Our Courses: No\\nTags: Ringing\\nLead Quality: Not Sure\\nUpdate me on Supply Chain Content: No\\nGet updates on DM Content: No\\nLead Profile: Select\\nCity: Mumbai\\nAsymmetrique Activity Index: 02.Medium\\nAsymmetrique Profile Index: 01.High\\nAsymmetrique Activity Score: 13\\nAsymmetrique Profile Score: 17\\nI agree to pay the amount through cheque: No<<<<>>>>>﻿Prospect ID: a8531c22-fcf1-48f8-a711-fb5abf98ad87\\nLead Number: 660553\\nLead Origin: Landing Page Submission\\nLead Source: Direct Traffic\\nDo Not Email: Yes\\nDo Not Call: No\\nConverted: 0\\nTotalVisits: 1\\nTotal Time Spent on Website: 481\\nPage Views Per Visit: 1\\nLast Activity: Email Bounced\\nCountry: Russia\\nSpecialization: Business Administration\\nHow did you hear about X Education: Select\\nWhat is your current occupation: Unemployed\\nWhat matters most to you in choosing a course: Better Career Prospects\\nSearch: No\\nMagazine: No\\nNewspaper Article: No\\nX Education Forums: No\\nNewspaper: No\\nDigital Advertisement: No\\nThrough Recommendations: No\\nReceive More Updates About Our Courses: No\\nTags: \\nLead Quality: \\nUpdate me on Supply Chain Content: No\\nGet updates on DM Content: No\\nLead Profile: Select\\nCity: Select\\nAsymmetrique Activity Index: 01.High\\nAsymmetrique Profile Index: 01.High\\nAsymmetrique Activity Score: 16\\nAsymmetrique Profile Score: 17\\nI agree to pay the amount through cheque: No<<<<>>>>>﻿Prospect ID: 3abb7c77-1634-4083-9a9f-861068220611\\nLead Number: 660540\\nLead Origin: API\\nLead Source: Olark Chat\\nDo Not Email: No\\nDo Not Call: No\\nConverted: 0\\nTotalVisits: 0\\nTotal Time Spent on Website: 0\\nPage Views Per Visit: 0\\nLast Activity: Olark Chat Conversation\\nCountry: \\nSpecialization: \\nHow did you hear about X Education: \\nWhat is your current occupation: \\nWhat matters most to you in choosing a course: \\nSearch: No\\nMagazine: No\\nNewspaper Article: No\\nX Education Forums: No\\nNewspaper: No\\nDigital Advertisement: No\\nThrough Recommendations: No\\nReceive More Updates About Our Courses: No\\nTags: \\nLead Quality: \\nUpdate me on Supply Chain Content: No\\nGet updates on DM Content: No\\nLead Profile: \\nCity: \\nAsymmetrique Activity Index: 01.High\\nAsymmetrique Profile Index: 02.Medium\\nAsymmetrique Activity Score: 17\\nAsymmetrique Profile Score: 15\\nI agree to pay the amount through cheque: No\\nA free copy of Mastering The Interview: No\\nLast Notable Activity: Modified\\nHuman: What is the Lead Number mentioned in the document?\"\n",
            "  ]\n",
            "}\n",
            "\u001b[36;1m\u001b[1;3m[llm/end]\u001b[0m \u001b[1m[1:chain:RetrievalQA > 3:chain:StuffDocumentsChain > 4:chain:LLMChain > 5:llm:ChatOpenAI] [724.5160000000001ms] Exiting LLM run with output:\n",
            "\u001b[0m{\n",
            "  \"generations\": [\n",
            "    [\n",
            "      {\n",
            "        \"text\": \"The Lead Number mentioned in the document is 660558.\",\n",
            "        \"generation_info\": null,\n",
            "        \"message\": {\n",
            "          \"lc\": 1,\n",
            "          \"type\": \"constructor\",\n",
            "          \"id\": [\n",
            "            \"langchain\",\n",
            "            \"schema\",\n",
            "            \"messages\",\n",
            "            \"AIMessage\"\n",
            "          ],\n",
            "          \"kwargs\": {\n",
            "            \"content\": \"The Lead Number mentioned in the document is 660558.\",\n",
            "            \"additional_kwargs\": {}\n",
            "          }\n",
            "        }\n",
            "      }\n",
            "    ]\n",
            "  ],\n",
            "  \"llm_output\": {\n",
            "    \"token_usage\": {\n",
            "      \"prompt_tokens\": 1190,\n",
            "      \"completion_tokens\": 12,\n",
            "      \"total_tokens\": 1202\n",
            "    },\n",
            "    \"model_name\": \"gpt-3.5-turbo\"\n",
            "  },\n",
            "  \"run\": null\n",
            "}\n",
            "\u001b[36;1m\u001b[1;3m[chain/end]\u001b[0m \u001b[1m[1:chain:RetrievalQA > 3:chain:StuffDocumentsChain > 4:chain:LLMChain] [725.343ms] Exiting Chain run with output:\n",
            "\u001b[0m{\n",
            "  \"text\": \"The Lead Number mentioned in the document is 660558.\"\n",
            "}\n",
            "\u001b[36;1m\u001b[1;3m[chain/end]\u001b[0m \u001b[1m[1:chain:RetrievalQA > 3:chain:StuffDocumentsChain] [731.773ms] Exiting Chain run with output:\n",
            "\u001b[0m{\n",
            "  \"output_text\": \"The Lead Number mentioned in the document is 660558.\"\n",
            "}\n",
            "\u001b[36;1m\u001b[1;3m[chain/end]\u001b[0m \u001b[1m[1:chain:RetrievalQA] [1.35s] Exiting Chain run with output:\n",
            "\u001b[0m{\n",
            "  \"result\": \"The Lead Number mentioned in the document is 660558.\"\n",
            "}\n",
            "\u001b[32;1m\u001b[1;3m[chain/start]\u001b[0m \u001b[1m[1:chain:RetrievalQA] Entering Chain run with input:\n",
            "\u001b[0m{\n",
            "  \"query\": \"What is the Lead Number mentioned in the document?\",\n",
            "  \"answer\": \"The Lead Number mentioned in the document is 660728.\"\n",
            "}\n",
            "\u001b[32;1m\u001b[1;3m[chain/start]\u001b[0m \u001b[1m[1:chain:RetrievalQA > 3:chain:StuffDocumentsChain] Entering Chain run with input:\n",
            "\u001b[0m[inputs]\n",
            "\u001b[32;1m\u001b[1;3m[chain/start]\u001b[0m \u001b[1m[1:chain:RetrievalQA > 3:chain:StuffDocumentsChain > 4:chain:LLMChain] Entering Chain run with input:\n",
            "\u001b[0m{\n",
            "  \"question\": \"What is the Lead Number mentioned in the document?\",\n",
            "  \"context\": \"﻿Prospect ID: 88867067-3750-4753-8d33-1c7d1db53b5e\\nLead Number: 660558\\nLead Origin: Landing Page Submission\\nLead Source: Organic Search\\nDo Not Email: No\\nDo Not Call: No\\nConverted: 0\\nTotalVisits: 5\\nTotal Time Spent on Website: 170\\nPage Views Per Visit: 5\\nLast Activity: Email Opened\\nCountry: India\\nSpecialization: Business Administration\\nHow did you hear about X Education: Select\\nWhat is your current occupation: Unemployed\\nWhat matters most to you in choosing a course: Better Career Prospects\\nSearch: No\\nMagazine: No\\nNewspaper Article: No\\nX Education Forums: No\\nNewspaper: No\\nDigital Advertisement: No\\nThrough Recommendations: No\\nReceive More Updates About Our Courses: No\\nTags: Ringing\\nLead Quality: \\nUpdate me on Supply Chain Content: No\\nGet updates on DM Content: No\\nLead Profile: Select\\nCity: Thane & Outskirts\\nAsymmetrique Activity Index: 02.Medium\\nAsymmetrique Profile Index: 01.High\\nAsymmetrique Activity Score: 14\\nAsymmetrique Profile Score: 17\\nI agree to pay the amount through cheque: No<<<<>>>>>﻿Prospect ID: 0cc2df48-7cf4-4e39-9de9-19797f9b38cc\\nLead Number: 660719\\nLead Origin: Landing Page Submission\\nLead Source: Direct Traffic\\nDo Not Email: No\\nDo Not Call: No\\nConverted: 0\\nTotalVisits: 1\\nTotal Time Spent on Website: 305\\nPage Views Per Visit: 1\\nLast Activity: Unreachable\\nCountry: India\\nSpecialization: Media and Advertising\\nHow did you hear about X Education: Word Of Mouth\\nWhat is your current occupation: Unemployed\\nWhat matters most to you in choosing a course: Better Career Prospects\\nSearch: No\\nMagazine: No\\nNewspaper Article: No\\nX Education Forums: No\\nNewspaper: No\\nDigital Advertisement: No\\nThrough Recommendations: No\\nReceive More Updates About Our Courses: No\\nTags: Ringing\\nLead Quality: Not Sure\\nUpdate me on Supply Chain Content: No\\nGet updates on DM Content: No\\nLead Profile: Select\\nCity: Mumbai\\nAsymmetrique Activity Index: 02.Medium\\nAsymmetrique Profile Index: 01.High\\nAsymmetrique Activity Score: 13\\nAsymmetrique Profile Score: 17\\nI agree to pay the amount through cheque: No<<<<>>>>>﻿Prospect ID: a8531c22-fcf1-48f8-a711-fb5abf98ad87\\nLead Number: 660553\\nLead Origin: Landing Page Submission\\nLead Source: Direct Traffic\\nDo Not Email: Yes\\nDo Not Call: No\\nConverted: 0\\nTotalVisits: 1\\nTotal Time Spent on Website: 481\\nPage Views Per Visit: 1\\nLast Activity: Email Bounced\\nCountry: Russia\\nSpecialization: Business Administration\\nHow did you hear about X Education: Select\\nWhat is your current occupation: Unemployed\\nWhat matters most to you in choosing a course: Better Career Prospects\\nSearch: No\\nMagazine: No\\nNewspaper Article: No\\nX Education Forums: No\\nNewspaper: No\\nDigital Advertisement: No\\nThrough Recommendations: No\\nReceive More Updates About Our Courses: No\\nTags: \\nLead Quality: \\nUpdate me on Supply Chain Content: No\\nGet updates on DM Content: No\\nLead Profile: Select\\nCity: Select\\nAsymmetrique Activity Index: 01.High\\nAsymmetrique Profile Index: 01.High\\nAsymmetrique Activity Score: 16\\nAsymmetrique Profile Score: 17\\nI agree to pay the amount through cheque: No<<<<>>>>>﻿Prospect ID: 3abb7c77-1634-4083-9a9f-861068220611\\nLead Number: 660540\\nLead Origin: API\\nLead Source: Olark Chat\\nDo Not Email: No\\nDo Not Call: No\\nConverted: 0\\nTotalVisits: 0\\nTotal Time Spent on Website: 0\\nPage Views Per Visit: 0\\nLast Activity: Olark Chat Conversation\\nCountry: \\nSpecialization: \\nHow did you hear about X Education: \\nWhat is your current occupation: \\nWhat matters most to you in choosing a course: \\nSearch: No\\nMagazine: No\\nNewspaper Article: No\\nX Education Forums: No\\nNewspaper: No\\nDigital Advertisement: No\\nThrough Recommendations: No\\nReceive More Updates About Our Courses: No\\nTags: \\nLead Quality: \\nUpdate me on Supply Chain Content: No\\nGet updates on DM Content: No\\nLead Profile: \\nCity: \\nAsymmetrique Activity Index: 01.High\\nAsymmetrique Profile Index: 02.Medium\\nAsymmetrique Activity Score: 17\\nAsymmetrique Profile Score: 15\\nI agree to pay the amount through cheque: No\\nA free copy of Mastering The Interview: No\\nLast Notable Activity: Modified\"\n",
            "}\n",
            "\u001b[32;1m\u001b[1;3m[llm/start]\u001b[0m \u001b[1m[1:chain:RetrievalQA > 3:chain:StuffDocumentsChain > 4:chain:LLMChain > 5:llm:ChatOpenAI] Entering LLM run with input:\n",
            "\u001b[0m{\n",
            "  \"prompts\": [\n",
            "    \"System: Use the following pieces of context to answer the users question. \\nIf you don't know the answer, just say that you don't know, don't try to make up an answer.\\n----------------\\n﻿Prospect ID: 88867067-3750-4753-8d33-1c7d1db53b5e\\nLead Number: 660558\\nLead Origin: Landing Page Submission\\nLead Source: Organic Search\\nDo Not Email: No\\nDo Not Call: No\\nConverted: 0\\nTotalVisits: 5\\nTotal Time Spent on Website: 170\\nPage Views Per Visit: 5\\nLast Activity: Email Opened\\nCountry: India\\nSpecialization: Business Administration\\nHow did you hear about X Education: Select\\nWhat is your current occupation: Unemployed\\nWhat matters most to you in choosing a course: Better Career Prospects\\nSearch: No\\nMagazine: No\\nNewspaper Article: No\\nX Education Forums: No\\nNewspaper: No\\nDigital Advertisement: No\\nThrough Recommendations: No\\nReceive More Updates About Our Courses: No\\nTags: Ringing\\nLead Quality: \\nUpdate me on Supply Chain Content: No\\nGet updates on DM Content: No\\nLead Profile: Select\\nCity: Thane & Outskirts\\nAsymmetrique Activity Index: 02.Medium\\nAsymmetrique Profile Index: 01.High\\nAsymmetrique Activity Score: 14\\nAsymmetrique Profile Score: 17\\nI agree to pay the amount through cheque: No<<<<>>>>>﻿Prospect ID: 0cc2df48-7cf4-4e39-9de9-19797f9b38cc\\nLead Number: 660719\\nLead Origin: Landing Page Submission\\nLead Source: Direct Traffic\\nDo Not Email: No\\nDo Not Call: No\\nConverted: 0\\nTotalVisits: 1\\nTotal Time Spent on Website: 305\\nPage Views Per Visit: 1\\nLast Activity: Unreachable\\nCountry: India\\nSpecialization: Media and Advertising\\nHow did you hear about X Education: Word Of Mouth\\nWhat is your current occupation: Unemployed\\nWhat matters most to you in choosing a course: Better Career Prospects\\nSearch: No\\nMagazine: No\\nNewspaper Article: No\\nX Education Forums: No\\nNewspaper: No\\nDigital Advertisement: No\\nThrough Recommendations: No\\nReceive More Updates About Our Courses: No\\nTags: Ringing\\nLead Quality: Not Sure\\nUpdate me on Supply Chain Content: No\\nGet updates on DM Content: No\\nLead Profile: Select\\nCity: Mumbai\\nAsymmetrique Activity Index: 02.Medium\\nAsymmetrique Profile Index: 01.High\\nAsymmetrique Activity Score: 13\\nAsymmetrique Profile Score: 17\\nI agree to pay the amount through cheque: No<<<<>>>>>﻿Prospect ID: a8531c22-fcf1-48f8-a711-fb5abf98ad87\\nLead Number: 660553\\nLead Origin: Landing Page Submission\\nLead Source: Direct Traffic\\nDo Not Email: Yes\\nDo Not Call: No\\nConverted: 0\\nTotalVisits: 1\\nTotal Time Spent on Website: 481\\nPage Views Per Visit: 1\\nLast Activity: Email Bounced\\nCountry: Russia\\nSpecialization: Business Administration\\nHow did you hear about X Education: Select\\nWhat is your current occupation: Unemployed\\nWhat matters most to you in choosing a course: Better Career Prospects\\nSearch: No\\nMagazine: No\\nNewspaper Article: No\\nX Education Forums: No\\nNewspaper: No\\nDigital Advertisement: No\\nThrough Recommendations: No\\nReceive More Updates About Our Courses: No\\nTags: \\nLead Quality: \\nUpdate me on Supply Chain Content: No\\nGet updates on DM Content: No\\nLead Profile: Select\\nCity: Select\\nAsymmetrique Activity Index: 01.High\\nAsymmetrique Profile Index: 01.High\\nAsymmetrique Activity Score: 16\\nAsymmetrique Profile Score: 17\\nI agree to pay the amount through cheque: No<<<<>>>>>﻿Prospect ID: 3abb7c77-1634-4083-9a9f-861068220611\\nLead Number: 660540\\nLead Origin: API\\nLead Source: Olark Chat\\nDo Not Email: No\\nDo Not Call: No\\nConverted: 0\\nTotalVisits: 0\\nTotal Time Spent on Website: 0\\nPage Views Per Visit: 0\\nLast Activity: Olark Chat Conversation\\nCountry: \\nSpecialization: \\nHow did you hear about X Education: \\nWhat is your current occupation: \\nWhat matters most to you in choosing a course: \\nSearch: No\\nMagazine: No\\nNewspaper Article: No\\nX Education Forums: No\\nNewspaper: No\\nDigital Advertisement: No\\nThrough Recommendations: No\\nReceive More Updates About Our Courses: No\\nTags: \\nLead Quality: \\nUpdate me on Supply Chain Content: No\\nGet updates on DM Content: No\\nLead Profile: \\nCity: \\nAsymmetrique Activity Index: 01.High\\nAsymmetrique Profile Index: 02.Medium\\nAsymmetrique Activity Score: 17\\nAsymmetrique Profile Score: 15\\nI agree to pay the amount through cheque: No\\nA free copy of Mastering The Interview: No\\nLast Notable Activity: Modified\\nHuman: What is the Lead Number mentioned in the document?\"\n",
            "  ]\n",
            "}\n",
            "\u001b[36;1m\u001b[1;3m[llm/end]\u001b[0m \u001b[1m[1:chain:RetrievalQA > 3:chain:StuffDocumentsChain > 4:chain:LLMChain > 5:llm:ChatOpenAI] [901.748ms] Exiting LLM run with output:\n",
            "\u001b[0m{\n",
            "  \"generations\": [\n",
            "    [\n",
            "      {\n",
            "        \"text\": \"The Lead Number mentioned in the document is 660558.\",\n",
            "        \"generation_info\": null,\n",
            "        \"message\": {\n",
            "          \"lc\": 1,\n",
            "          \"type\": \"constructor\",\n",
            "          \"id\": [\n",
            "            \"langchain\",\n",
            "            \"schema\",\n",
            "            \"messages\",\n",
            "            \"AIMessage\"\n",
            "          ],\n",
            "          \"kwargs\": {\n",
            "            \"content\": \"The Lead Number mentioned in the document is 660558.\",\n",
            "            \"additional_kwargs\": {}\n",
            "          }\n",
            "        }\n",
            "      }\n",
            "    ]\n",
            "  ],\n",
            "  \"llm_output\": {\n",
            "    \"token_usage\": {\n",
            "      \"prompt_tokens\": 1190,\n",
            "      \"completion_tokens\": 12,\n",
            "      \"total_tokens\": 1202\n",
            "    },\n",
            "    \"model_name\": \"gpt-3.5-turbo\"\n",
            "  },\n",
            "  \"run\": null\n",
            "}\n",
            "\u001b[36;1m\u001b[1;3m[chain/end]\u001b[0m \u001b[1m[1:chain:RetrievalQA > 3:chain:StuffDocumentsChain > 4:chain:LLMChain] [902.721ms] Exiting Chain run with output:\n",
            "\u001b[0m{\n",
            "  \"text\": \"The Lead Number mentioned in the document is 660558.\"\n",
            "}\n",
            "\u001b[36;1m\u001b[1;3m[chain/end]\u001b[0m \u001b[1m[1:chain:RetrievalQA > 3:chain:StuffDocumentsChain] [908.172ms] Exiting Chain run with output:\n",
            "\u001b[0m{\n",
            "  \"output_text\": \"The Lead Number mentioned in the document is 660558.\"\n",
            "}\n",
            "\u001b[36;1m\u001b[1;3m[chain/end]\u001b[0m \u001b[1m[1:chain:RetrievalQA] [1.59s] Exiting Chain run with output:\n",
            "\u001b[0m{\n",
            "  \"result\": \"The Lead Number mentioned in the document is 660558.\"\n",
            "}\n",
            "\u001b[32;1m\u001b[1;3m[chain/start]\u001b[0m \u001b[1m[1:chain:RetrievalQA] Entering Chain run with input:\n",
            "\u001b[0m{\n",
            "  \"query\": \"What is the Prospect ID mentioned in the document?\",\n",
            "  \"answer\": \"The Prospect ID mentioned in the document is 8cc8c611-a219-4f35-ad23-fdfd2656bd8a.\"\n",
            "}\n",
            "\u001b[32;1m\u001b[1;3m[chain/start]\u001b[0m \u001b[1m[1:chain:RetrievalQA > 3:chain:StuffDocumentsChain] Entering Chain run with input:\n",
            "\u001b[0m[inputs]\n",
            "\u001b[32;1m\u001b[1;3m[chain/start]\u001b[0m \u001b[1m[1:chain:RetrievalQA > 3:chain:StuffDocumentsChain > 4:chain:LLMChain] Entering Chain run with input:\n",
            "\u001b[0m{\n",
            "  \"question\": \"What is the Prospect ID mentioned in the document?\",\n",
            "  \"context\": \"﻿Prospect ID: a8531c22-fcf1-48f8-a711-fb5abf98ad87\\nLead Number: 660553\\nLead Origin: Landing Page Submission\\nLead Source: Direct Traffic\\nDo Not Email: Yes\\nDo Not Call: No\\nConverted: 0\\nTotalVisits: 1\\nTotal Time Spent on Website: 481\\nPage Views Per Visit: 1\\nLast Activity: Email Bounced\\nCountry: Russia\\nSpecialization: Business Administration\\nHow did you hear about X Education: Select\\nWhat is your current occupation: Unemployed\\nWhat matters most to you in choosing a course: Better Career Prospects\\nSearch: No\\nMagazine: No\\nNewspaper Article: No\\nX Education Forums: No\\nNewspaper: No\\nDigital Advertisement: No\\nThrough Recommendations: No\\nReceive More Updates About Our Courses: No\\nTags: \\nLead Quality: \\nUpdate me on Supply Chain Content: No\\nGet updates on DM Content: No\\nLead Profile: Select\\nCity: Select\\nAsymmetrique Activity Index: 01.High\\nAsymmetrique Profile Index: 01.High\\nAsymmetrique Activity Score: 16\\nAsymmetrique Profile Score: 17\\nI agree to pay the amount through cheque: No<<<<>>>>>﻿Prospect ID: 88867067-3750-4753-8d33-1c7d1db53b5e\\nLead Number: 660558\\nLead Origin: Landing Page Submission\\nLead Source: Organic Search\\nDo Not Email: No\\nDo Not Call: No\\nConverted: 0\\nTotalVisits: 5\\nTotal Time Spent on Website: 170\\nPage Views Per Visit: 5\\nLast Activity: Email Opened\\nCountry: India\\nSpecialization: Business Administration\\nHow did you hear about X Education: Select\\nWhat is your current occupation: Unemployed\\nWhat matters most to you in choosing a course: Better Career Prospects\\nSearch: No\\nMagazine: No\\nNewspaper Article: No\\nX Education Forums: No\\nNewspaper: No\\nDigital Advertisement: No\\nThrough Recommendations: No\\nReceive More Updates About Our Courses: No\\nTags: Ringing\\nLead Quality: \\nUpdate me on Supply Chain Content: No\\nGet updates on DM Content: No\\nLead Profile: Select\\nCity: Thane & Outskirts\\nAsymmetrique Activity Index: 02.Medium\\nAsymmetrique Profile Index: 01.High\\nAsymmetrique Activity Score: 14\\nAsymmetrique Profile Score: 17\\nI agree to pay the amount through cheque: No<<<<>>>>>﻿Prospect ID: e5c3beca-a0b6-4b3f-8c01-0919fb9ca3f2\\nLead Number: 660534\\nLead Origin: API\\nLead Source: Referral Sites\\nDo Not Email: No\\nDo Not Call: No\\nConverted: 0\\nTotalVisits: 6\\nTotal Time Spent on Website: 973\\nPage Views Per Visit: 6\\nLast Activity: Email Link Clicked\\nCountry: India\\nSpecialization: Select\\nHow did you hear about X Education: Select\\nWhat is your current occupation: Unemployed\\nWhat matters most to you in choosing a course: Better Career Prospects\\nSearch: No\\nMagazine: No\\nNewspaper Article: No\\nX Education Forums: No\\nNewspaper: No\\nDigital Advertisement: No\\nThrough Recommendations: No\\nReceive More Updates About Our Courses: No\\nTags: Interested in other courses\\nLead Quality: Might be\\nUpdate me on Supply Chain Content: No\\nGet updates on DM Content: No\\nLead Profile: Select\\nCity: Select\\nAsymmetrique Activity Index: 02.Medium\\nAsymmetrique Profile Index: 02.Medium\\nAsymmetrique Activity Score: 13\\nAsymmetrique Profile Score: 13\\nI agree to pay the amount through cheque: No<<<<>>>>>﻿Prospect ID: 82cb5fb0-2d97-4a39-a630-ab5fe2e7f18c\\nLead Number: 660522\\nLead Origin: Landing Page Submission\\nLead Source: Google\\nDo Not Email: No\\nDo Not Call: No\\nConverted: 1\\nTotalVisits: 6\\nTotal Time Spent on Website: 1688\\nPage Views Per Visit: 3\\nLast Activity: Page Visited on Website\\nCountry: India\\nSpecialization: Marketing Management\\nHow did you hear about X Education: Multiple Sources\\nWhat is your current occupation: Unemployed\\nWhat matters most to you in choosing a course: Better Career Prospects\\nSearch: No\\nMagazine: No\\nNewspaper Article: No\\nX Education Forums: No\\nNewspaper: No\\nDigital Advertisement: No\\nThrough Recommendations: No\\nReceive More Updates About Our Courses: No\\nTags: \\nLead Quality: \\nUpdate me on Supply Chain Content: No\\nGet updates on DM Content: No\\nLead Profile: Select\\nCity: Mumbai\\nAsymmetrique Activity Index: 02.Medium\\nAsymmetrique Profile Index: 01.High\\nAsymmetrique Activity Score: 15\\nAsymmetrique Profile Score: 18\\nI agree to pay the amount through cheque: No\"\n",
            "}\n",
            "\u001b[32;1m\u001b[1;3m[llm/start]\u001b[0m \u001b[1m[1:chain:RetrievalQA > 3:chain:StuffDocumentsChain > 4:chain:LLMChain > 5:llm:ChatOpenAI] Entering LLM run with input:\n",
            "\u001b[0m{\n",
            "  \"prompts\": [\n",
            "    \"System: Use the following pieces of context to answer the users question. \\nIf you don't know the answer, just say that you don't know, don't try to make up an answer.\\n----------------\\n﻿Prospect ID: a8531c22-fcf1-48f8-a711-fb5abf98ad87\\nLead Number: 660553\\nLead Origin: Landing Page Submission\\nLead Source: Direct Traffic\\nDo Not Email: Yes\\nDo Not Call: No\\nConverted: 0\\nTotalVisits: 1\\nTotal Time Spent on Website: 481\\nPage Views Per Visit: 1\\nLast Activity: Email Bounced\\nCountry: Russia\\nSpecialization: Business Administration\\nHow did you hear about X Education: Select\\nWhat is your current occupation: Unemployed\\nWhat matters most to you in choosing a course: Better Career Prospects\\nSearch: No\\nMagazine: No\\nNewspaper Article: No\\nX Education Forums: No\\nNewspaper: No\\nDigital Advertisement: No\\nThrough Recommendations: No\\nReceive More Updates About Our Courses: No\\nTags: \\nLead Quality: \\nUpdate me on Supply Chain Content: No\\nGet updates on DM Content: No\\nLead Profile: Select\\nCity: Select\\nAsymmetrique Activity Index: 01.High\\nAsymmetrique Profile Index: 01.High\\nAsymmetrique Activity Score: 16\\nAsymmetrique Profile Score: 17\\nI agree to pay the amount through cheque: No<<<<>>>>>﻿Prospect ID: 88867067-3750-4753-8d33-1c7d1db53b5e\\nLead Number: 660558\\nLead Origin: Landing Page Submission\\nLead Source: Organic Search\\nDo Not Email: No\\nDo Not Call: No\\nConverted: 0\\nTotalVisits: 5\\nTotal Time Spent on Website: 170\\nPage Views Per Visit: 5\\nLast Activity: Email Opened\\nCountry: India\\nSpecialization: Business Administration\\nHow did you hear about X Education: Select\\nWhat is your current occupation: Unemployed\\nWhat matters most to you in choosing a course: Better Career Prospects\\nSearch: No\\nMagazine: No\\nNewspaper Article: No\\nX Education Forums: No\\nNewspaper: No\\nDigital Advertisement: No\\nThrough Recommendations: No\\nReceive More Updates About Our Courses: No\\nTags: Ringing\\nLead Quality: \\nUpdate me on Supply Chain Content: No\\nGet updates on DM Content: No\\nLead Profile: Select\\nCity: Thane & Outskirts\\nAsymmetrique Activity Index: 02.Medium\\nAsymmetrique Profile Index: 01.High\\nAsymmetrique Activity Score: 14\\nAsymmetrique Profile Score: 17\\nI agree to pay the amount through cheque: No<<<<>>>>>﻿Prospect ID: e5c3beca-a0b6-4b3f-8c01-0919fb9ca3f2\\nLead Number: 660534\\nLead Origin: API\\nLead Source: Referral Sites\\nDo Not Email: No\\nDo Not Call: No\\nConverted: 0\\nTotalVisits: 6\\nTotal Time Spent on Website: 973\\nPage Views Per Visit: 6\\nLast Activity: Email Link Clicked\\nCountry: India\\nSpecialization: Select\\nHow did you hear about X Education: Select\\nWhat is your current occupation: Unemployed\\nWhat matters most to you in choosing a course: Better Career Prospects\\nSearch: No\\nMagazine: No\\nNewspaper Article: No\\nX Education Forums: No\\nNewspaper: No\\nDigital Advertisement: No\\nThrough Recommendations: No\\nReceive More Updates About Our Courses: No\\nTags: Interested in other courses\\nLead Quality: Might be\\nUpdate me on Supply Chain Content: No\\nGet updates on DM Content: No\\nLead Profile: Select\\nCity: Select\\nAsymmetrique Activity Index: 02.Medium\\nAsymmetrique Profile Index: 02.Medium\\nAsymmetrique Activity Score: 13\\nAsymmetrique Profile Score: 13\\nI agree to pay the amount through cheque: No<<<<>>>>>﻿Prospect ID: 82cb5fb0-2d97-4a39-a630-ab5fe2e7f18c\\nLead Number: 660522\\nLead Origin: Landing Page Submission\\nLead Source: Google\\nDo Not Email: No\\nDo Not Call: No\\nConverted: 1\\nTotalVisits: 6\\nTotal Time Spent on Website: 1688\\nPage Views Per Visit: 3\\nLast Activity: Page Visited on Website\\nCountry: India\\nSpecialization: Marketing Management\\nHow did you hear about X Education: Multiple Sources\\nWhat is your current occupation: Unemployed\\nWhat matters most to you in choosing a course: Better Career Prospects\\nSearch: No\\nMagazine: No\\nNewspaper Article: No\\nX Education Forums: No\\nNewspaper: No\\nDigital Advertisement: No\\nThrough Recommendations: No\\nReceive More Updates About Our Courses: No\\nTags: \\nLead Quality: \\nUpdate me on Supply Chain Content: No\\nGet updates on DM Content: No\\nLead Profile: Select\\nCity: Mumbai\\nAsymmetrique Activity Index: 02.Medium\\nAsymmetrique Profile Index: 01.High\\nAsymmetrique Activity Score: 15\\nAsymmetrique Profile Score: 18\\nI agree to pay the amount through cheque: No\\nHuman: What is the Prospect ID mentioned in the document?\"\n",
            "  ]\n",
            "}\n",
            "\u001b[36;1m\u001b[1;3m[llm/end]\u001b[0m \u001b[1m[1:chain:RetrievalQA > 3:chain:StuffDocumentsChain > 4:chain:LLMChain > 5:llm:ChatOpenAI] [1.24s] Exiting LLM run with output:\n",
            "\u001b[0m{\n",
            "  \"generations\": [\n",
            "    [\n",
            "      {\n",
            "        \"text\": \"The Prospect ID mentioned in the document is a8531c22-fcf1-48f8-a711-fb5abf98ad87.\",\n",
            "        \"generation_info\": null,\n",
            "        \"message\": {\n",
            "          \"lc\": 1,\n",
            "          \"type\": \"constructor\",\n",
            "          \"id\": [\n",
            "            \"langchain\",\n",
            "            \"schema\",\n",
            "            \"messages\",\n",
            "            \"AIMessage\"\n",
            "          ],\n",
            "          \"kwargs\": {\n",
            "            \"content\": \"The Prospect ID mentioned in the document is a8531c22-fcf1-48f8-a711-fb5abf98ad87.\",\n",
            "            \"additional_kwargs\": {}\n",
            "          }\n",
            "        }\n",
            "      }\n",
            "    ]\n",
            "  ],\n",
            "  \"llm_output\": {\n",
            "    \"token_usage\": {\n",
            "      \"prompt_tokens\": 1192,\n",
            "      \"completion_tokens\": 31,\n",
            "      \"total_tokens\": 1223\n",
            "    },\n",
            "    \"model_name\": \"gpt-3.5-turbo\"\n",
            "  },\n",
            "  \"run\": null\n",
            "}\n",
            "\u001b[36;1m\u001b[1;3m[chain/end]\u001b[0m \u001b[1m[1:chain:RetrievalQA > 3:chain:StuffDocumentsChain > 4:chain:LLMChain] [1.24s] Exiting Chain run with output:\n",
            "\u001b[0m{\n",
            "  \"text\": \"The Prospect ID mentioned in the document is a8531c22-fcf1-48f8-a711-fb5abf98ad87.\"\n",
            "}\n",
            "\u001b[36;1m\u001b[1;3m[chain/end]\u001b[0m \u001b[1m[1:chain:RetrievalQA > 3:chain:StuffDocumentsChain] [1.24s] Exiting Chain run with output:\n",
            "\u001b[0m{\n",
            "  \"output_text\": \"The Prospect ID mentioned in the document is a8531c22-fcf1-48f8-a711-fb5abf98ad87.\"\n",
            "}\n",
            "\u001b[36;1m\u001b[1;3m[chain/end]\u001b[0m \u001b[1m[1:chain:RetrievalQA] [2.09s] Exiting Chain run with output:\n",
            "\u001b[0m{\n",
            "  \"result\": \"The Prospect ID mentioned in the document is a8531c22-fcf1-48f8-a711-fb5abf98ad87.\"\n",
            "}\n",
            "\u001b[32;1m\u001b[1;3m[chain/start]\u001b[0m \u001b[1m[1:chain:RetrievalQA] Entering Chain run with input:\n",
            "\u001b[0m{\n",
            "  \"query\": \"What is the Prospect ID mentioned in the document?\",\n",
            "  \"answer\": \"The Prospect ID mentioned in the document is 0cc2df48-7cf4-4e39-9de9-19797f9b38cc.\"\n",
            "}\n",
            "\u001b[32;1m\u001b[1;3m[chain/start]\u001b[0m \u001b[1m[1:chain:RetrievalQA > 3:chain:StuffDocumentsChain] Entering Chain run with input:\n",
            "\u001b[0m[inputs]\n",
            "\u001b[32;1m\u001b[1;3m[chain/start]\u001b[0m \u001b[1m[1:chain:RetrievalQA > 3:chain:StuffDocumentsChain > 4:chain:LLMChain] Entering Chain run with input:\n",
            "\u001b[0m{\n",
            "  \"question\": \"What is the Prospect ID mentioned in the document?\",\n",
            "  \"context\": \"﻿Prospect ID: a8531c22-fcf1-48f8-a711-fb5abf98ad87\\nLead Number: 660553\\nLead Origin: Landing Page Submission\\nLead Source: Direct Traffic\\nDo Not Email: Yes\\nDo Not Call: No\\nConverted: 0\\nTotalVisits: 1\\nTotal Time Spent on Website: 481\\nPage Views Per Visit: 1\\nLast Activity: Email Bounced\\nCountry: Russia\\nSpecialization: Business Administration\\nHow did you hear about X Education: Select\\nWhat is your current occupation: Unemployed\\nWhat matters most to you in choosing a course: Better Career Prospects\\nSearch: No\\nMagazine: No\\nNewspaper Article: No\\nX Education Forums: No\\nNewspaper: No\\nDigital Advertisement: No\\nThrough Recommendations: No\\nReceive More Updates About Our Courses: No\\nTags: \\nLead Quality: \\nUpdate me on Supply Chain Content: No\\nGet updates on DM Content: No\\nLead Profile: Select\\nCity: Select\\nAsymmetrique Activity Index: 01.High\\nAsymmetrique Profile Index: 01.High\\nAsymmetrique Activity Score: 16\\nAsymmetrique Profile Score: 17\\nI agree to pay the amount through cheque: No<<<<>>>>>﻿Prospect ID: 88867067-3750-4753-8d33-1c7d1db53b5e\\nLead Number: 660558\\nLead Origin: Landing Page Submission\\nLead Source: Organic Search\\nDo Not Email: No\\nDo Not Call: No\\nConverted: 0\\nTotalVisits: 5\\nTotal Time Spent on Website: 170\\nPage Views Per Visit: 5\\nLast Activity: Email Opened\\nCountry: India\\nSpecialization: Business Administration\\nHow did you hear about X Education: Select\\nWhat is your current occupation: Unemployed\\nWhat matters most to you in choosing a course: Better Career Prospects\\nSearch: No\\nMagazine: No\\nNewspaper Article: No\\nX Education Forums: No\\nNewspaper: No\\nDigital Advertisement: No\\nThrough Recommendations: No\\nReceive More Updates About Our Courses: No\\nTags: Ringing\\nLead Quality: \\nUpdate me on Supply Chain Content: No\\nGet updates on DM Content: No\\nLead Profile: Select\\nCity: Thane & Outskirts\\nAsymmetrique Activity Index: 02.Medium\\nAsymmetrique Profile Index: 01.High\\nAsymmetrique Activity Score: 14\\nAsymmetrique Profile Score: 17\\nI agree to pay the amount through cheque: No<<<<>>>>>﻿Prospect ID: e5c3beca-a0b6-4b3f-8c01-0919fb9ca3f2\\nLead Number: 660534\\nLead Origin: API\\nLead Source: Referral Sites\\nDo Not Email: No\\nDo Not Call: No\\nConverted: 0\\nTotalVisits: 6\\nTotal Time Spent on Website: 973\\nPage Views Per Visit: 6\\nLast Activity: Email Link Clicked\\nCountry: India\\nSpecialization: Select\\nHow did you hear about X Education: Select\\nWhat is your current occupation: Unemployed\\nWhat matters most to you in choosing a course: Better Career Prospects\\nSearch: No\\nMagazine: No\\nNewspaper Article: No\\nX Education Forums: No\\nNewspaper: No\\nDigital Advertisement: No\\nThrough Recommendations: No\\nReceive More Updates About Our Courses: No\\nTags: Interested in other courses\\nLead Quality: Might be\\nUpdate me on Supply Chain Content: No\\nGet updates on DM Content: No\\nLead Profile: Select\\nCity: Select\\nAsymmetrique Activity Index: 02.Medium\\nAsymmetrique Profile Index: 02.Medium\\nAsymmetrique Activity Score: 13\\nAsymmetrique Profile Score: 13\\nI agree to pay the amount through cheque: No<<<<>>>>>﻿Prospect ID: 82cb5fb0-2d97-4a39-a630-ab5fe2e7f18c\\nLead Number: 660522\\nLead Origin: Landing Page Submission\\nLead Source: Google\\nDo Not Email: No\\nDo Not Call: No\\nConverted: 1\\nTotalVisits: 6\\nTotal Time Spent on Website: 1688\\nPage Views Per Visit: 3\\nLast Activity: Page Visited on Website\\nCountry: India\\nSpecialization: Marketing Management\\nHow did you hear about X Education: Multiple Sources\\nWhat is your current occupation: Unemployed\\nWhat matters most to you in choosing a course: Better Career Prospects\\nSearch: No\\nMagazine: No\\nNewspaper Article: No\\nX Education Forums: No\\nNewspaper: No\\nDigital Advertisement: No\\nThrough Recommendations: No\\nReceive More Updates About Our Courses: No\\nTags: \\nLead Quality: \\nUpdate me on Supply Chain Content: No\\nGet updates on DM Content: No\\nLead Profile: Select\\nCity: Mumbai\\nAsymmetrique Activity Index: 02.Medium\\nAsymmetrique Profile Index: 01.High\\nAsymmetrique Activity Score: 15\\nAsymmetrique Profile Score: 18\\nI agree to pay the amount through cheque: No\"\n",
            "}\n",
            "\u001b[32;1m\u001b[1;3m[llm/start]\u001b[0m \u001b[1m[1:chain:RetrievalQA > 3:chain:StuffDocumentsChain > 4:chain:LLMChain > 5:llm:ChatOpenAI] Entering LLM run with input:\n",
            "\u001b[0m{\n",
            "  \"prompts\": [\n",
            "    \"System: Use the following pieces of context to answer the users question. \\nIf you don't know the answer, just say that you don't know, don't try to make up an answer.\\n----------------\\n﻿Prospect ID: a8531c22-fcf1-48f8-a711-fb5abf98ad87\\nLead Number: 660553\\nLead Origin: Landing Page Submission\\nLead Source: Direct Traffic\\nDo Not Email: Yes\\nDo Not Call: No\\nConverted: 0\\nTotalVisits: 1\\nTotal Time Spent on Website: 481\\nPage Views Per Visit: 1\\nLast Activity: Email Bounced\\nCountry: Russia\\nSpecialization: Business Administration\\nHow did you hear about X Education: Select\\nWhat is your current occupation: Unemployed\\nWhat matters most to you in choosing a course: Better Career Prospects\\nSearch: No\\nMagazine: No\\nNewspaper Article: No\\nX Education Forums: No\\nNewspaper: No\\nDigital Advertisement: No\\nThrough Recommendations: No\\nReceive More Updates About Our Courses: No\\nTags: \\nLead Quality: \\nUpdate me on Supply Chain Content: No\\nGet updates on DM Content: No\\nLead Profile: Select\\nCity: Select\\nAsymmetrique Activity Index: 01.High\\nAsymmetrique Profile Index: 01.High\\nAsymmetrique Activity Score: 16\\nAsymmetrique Profile Score: 17\\nI agree to pay the amount through cheque: No<<<<>>>>>﻿Prospect ID: 88867067-3750-4753-8d33-1c7d1db53b5e\\nLead Number: 660558\\nLead Origin: Landing Page Submission\\nLead Source: Organic Search\\nDo Not Email: No\\nDo Not Call: No\\nConverted: 0\\nTotalVisits: 5\\nTotal Time Spent on Website: 170\\nPage Views Per Visit: 5\\nLast Activity: Email Opened\\nCountry: India\\nSpecialization: Business Administration\\nHow did you hear about X Education: Select\\nWhat is your current occupation: Unemployed\\nWhat matters most to you in choosing a course: Better Career Prospects\\nSearch: No\\nMagazine: No\\nNewspaper Article: No\\nX Education Forums: No\\nNewspaper: No\\nDigital Advertisement: No\\nThrough Recommendations: No\\nReceive More Updates About Our Courses: No\\nTags: Ringing\\nLead Quality: \\nUpdate me on Supply Chain Content: No\\nGet updates on DM Content: No\\nLead Profile: Select\\nCity: Thane & Outskirts\\nAsymmetrique Activity Index: 02.Medium\\nAsymmetrique Profile Index: 01.High\\nAsymmetrique Activity Score: 14\\nAsymmetrique Profile Score: 17\\nI agree to pay the amount through cheque: No<<<<>>>>>﻿Prospect ID: e5c3beca-a0b6-4b3f-8c01-0919fb9ca3f2\\nLead Number: 660534\\nLead Origin: API\\nLead Source: Referral Sites\\nDo Not Email: No\\nDo Not Call: No\\nConverted: 0\\nTotalVisits: 6\\nTotal Time Spent on Website: 973\\nPage Views Per Visit: 6\\nLast Activity: Email Link Clicked\\nCountry: India\\nSpecialization: Select\\nHow did you hear about X Education: Select\\nWhat is your current occupation: Unemployed\\nWhat matters most to you in choosing a course: Better Career Prospects\\nSearch: No\\nMagazine: No\\nNewspaper Article: No\\nX Education Forums: No\\nNewspaper: No\\nDigital Advertisement: No\\nThrough Recommendations: No\\nReceive More Updates About Our Courses: No\\nTags: Interested in other courses\\nLead Quality: Might be\\nUpdate me on Supply Chain Content: No\\nGet updates on DM Content: No\\nLead Profile: Select\\nCity: Select\\nAsymmetrique Activity Index: 02.Medium\\nAsymmetrique Profile Index: 02.Medium\\nAsymmetrique Activity Score: 13\\nAsymmetrique Profile Score: 13\\nI agree to pay the amount through cheque: No<<<<>>>>>﻿Prospect ID: 82cb5fb0-2d97-4a39-a630-ab5fe2e7f18c\\nLead Number: 660522\\nLead Origin: Landing Page Submission\\nLead Source: Google\\nDo Not Email: No\\nDo Not Call: No\\nConverted: 1\\nTotalVisits: 6\\nTotal Time Spent on Website: 1688\\nPage Views Per Visit: 3\\nLast Activity: Page Visited on Website\\nCountry: India\\nSpecialization: Marketing Management\\nHow did you hear about X Education: Multiple Sources\\nWhat is your current occupation: Unemployed\\nWhat matters most to you in choosing a course: Better Career Prospects\\nSearch: No\\nMagazine: No\\nNewspaper Article: No\\nX Education Forums: No\\nNewspaper: No\\nDigital Advertisement: No\\nThrough Recommendations: No\\nReceive More Updates About Our Courses: No\\nTags: \\nLead Quality: \\nUpdate me on Supply Chain Content: No\\nGet updates on DM Content: No\\nLead Profile: Select\\nCity: Mumbai\\nAsymmetrique Activity Index: 02.Medium\\nAsymmetrique Profile Index: 01.High\\nAsymmetrique Activity Score: 15\\nAsymmetrique Profile Score: 18\\nI agree to pay the amount through cheque: No\\nHuman: What is the Prospect ID mentioned in the document?\"\n",
            "  ]\n",
            "}\n",
            "\u001b[36;1m\u001b[1;3m[llm/end]\u001b[0m \u001b[1m[1:chain:RetrievalQA > 3:chain:StuffDocumentsChain > 4:chain:LLMChain > 5:llm:ChatOpenAI] [1.59s] Exiting LLM run with output:\n",
            "\u001b[0m{\n",
            "  \"generations\": [\n",
            "    [\n",
            "      {\n",
            "        \"text\": \"The Prospect ID mentioned in the document is a8531c22-fcf1-48f8-a711-fb5abf98ad87.\",\n",
            "        \"generation_info\": null,\n",
            "        \"message\": {\n",
            "          \"lc\": 1,\n",
            "          \"type\": \"constructor\",\n",
            "          \"id\": [\n",
            "            \"langchain\",\n",
            "            \"schema\",\n",
            "            \"messages\",\n",
            "            \"AIMessage\"\n",
            "          ],\n",
            "          \"kwargs\": {\n",
            "            \"content\": \"The Prospect ID mentioned in the document is a8531c22-fcf1-48f8-a711-fb5abf98ad87.\",\n",
            "            \"additional_kwargs\": {}\n",
            "          }\n",
            "        }\n",
            "      }\n",
            "    ]\n",
            "  ],\n",
            "  \"llm_output\": {\n",
            "    \"token_usage\": {\n",
            "      \"prompt_tokens\": 1192,\n",
            "      \"completion_tokens\": 31,\n",
            "      \"total_tokens\": 1223\n",
            "    },\n",
            "    \"model_name\": \"gpt-3.5-turbo\"\n",
            "  },\n",
            "  \"run\": null\n",
            "}\n",
            "\u001b[36;1m\u001b[1;3m[chain/end]\u001b[0m \u001b[1m[1:chain:RetrievalQA > 3:chain:StuffDocumentsChain > 4:chain:LLMChain] [1.59s] Exiting Chain run with output:\n",
            "\u001b[0m{\n",
            "  \"text\": \"The Prospect ID mentioned in the document is a8531c22-fcf1-48f8-a711-fb5abf98ad87.\"\n",
            "}\n",
            "\u001b[36;1m\u001b[1;3m[chain/end]\u001b[0m \u001b[1m[1:chain:RetrievalQA > 3:chain:StuffDocumentsChain] [1.60s] Exiting Chain run with output:\n",
            "\u001b[0m{\n",
            "  \"output_text\": \"The Prospect ID mentioned in the document is a8531c22-fcf1-48f8-a711-fb5abf98ad87.\"\n",
            "}\n",
            "\u001b[36;1m\u001b[1;3m[chain/end]\u001b[0m \u001b[1m[1:chain:RetrievalQA] [1.93s] Exiting Chain run with output:\n",
            "\u001b[0m{\n",
            "  \"result\": \"The Prospect ID mentioned in the document is a8531c22-fcf1-48f8-a711-fb5abf98ad87.\"\n",
            "}\n",
            "\u001b[32;1m\u001b[1;3m[chain/start]\u001b[0m \u001b[1m[1:chain:RetrievalQA] Entering Chain run with input:\n",
            "\u001b[0m{\n",
            "  \"query\": \"What is the Prospect ID of the lead mentioned in the document?\",\n",
            "  \"answer\": \"The Prospect ID of the lead mentioned in the document is 3256f628-e534-4826-9d63-4a8b88782852.\"\n",
            "}\n",
            "\u001b[32;1m\u001b[1;3m[chain/start]\u001b[0m \u001b[1m[1:chain:RetrievalQA > 3:chain:StuffDocumentsChain] Entering Chain run with input:\n",
            "\u001b[0m[inputs]\n",
            "\u001b[32;1m\u001b[1;3m[chain/start]\u001b[0m \u001b[1m[1:chain:RetrievalQA > 3:chain:StuffDocumentsChain > 4:chain:LLMChain] Entering Chain run with input:\n",
            "\u001b[0m{\n",
            "  \"question\": \"What is the Prospect ID of the lead mentioned in the document?\",\n",
            "  \"context\": \"﻿Prospect ID: a8531c22-fcf1-48f8-a711-fb5abf98ad87\\nLead Number: 660553\\nLead Origin: Landing Page Submission\\nLead Source: Direct Traffic\\nDo Not Email: Yes\\nDo Not Call: No\\nConverted: 0\\nTotalVisits: 1\\nTotal Time Spent on Website: 481\\nPage Views Per Visit: 1\\nLast Activity: Email Bounced\\nCountry: Russia\\nSpecialization: Business Administration\\nHow did you hear about X Education: Select\\nWhat is your current occupation: Unemployed\\nWhat matters most to you in choosing a course: Better Career Prospects\\nSearch: No\\nMagazine: No\\nNewspaper Article: No\\nX Education Forums: No\\nNewspaper: No\\nDigital Advertisement: No\\nThrough Recommendations: No\\nReceive More Updates About Our Courses: No\\nTags: \\nLead Quality: \\nUpdate me on Supply Chain Content: No\\nGet updates on DM Content: No\\nLead Profile: Select\\nCity: Select\\nAsymmetrique Activity Index: 01.High\\nAsymmetrique Profile Index: 01.High\\nAsymmetrique Activity Score: 16\\nAsymmetrique Profile Score: 17\\nI agree to pay the amount through cheque: No<<<<>>>>>﻿Prospect ID: 88867067-3750-4753-8d33-1c7d1db53b5e\\nLead Number: 660558\\nLead Origin: Landing Page Submission\\nLead Source: Organic Search\\nDo Not Email: No\\nDo Not Call: No\\nConverted: 0\\nTotalVisits: 5\\nTotal Time Spent on Website: 170\\nPage Views Per Visit: 5\\nLast Activity: Email Opened\\nCountry: India\\nSpecialization: Business Administration\\nHow did you hear about X Education: Select\\nWhat is your current occupation: Unemployed\\nWhat matters most to you in choosing a course: Better Career Prospects\\nSearch: No\\nMagazine: No\\nNewspaper Article: No\\nX Education Forums: No\\nNewspaper: No\\nDigital Advertisement: No\\nThrough Recommendations: No\\nReceive More Updates About Our Courses: No\\nTags: Ringing\\nLead Quality: \\nUpdate me on Supply Chain Content: No\\nGet updates on DM Content: No\\nLead Profile: Select\\nCity: Thane & Outskirts\\nAsymmetrique Activity Index: 02.Medium\\nAsymmetrique Profile Index: 01.High\\nAsymmetrique Activity Score: 14\\nAsymmetrique Profile Score: 17\\nI agree to pay the amount through cheque: No<<<<>>>>>﻿Prospect ID: 3abb7c77-1634-4083-9a9f-861068220611\\nLead Number: 660540\\nLead Origin: API\\nLead Source: Olark Chat\\nDo Not Email: No\\nDo Not Call: No\\nConverted: 0\\nTotalVisits: 0\\nTotal Time Spent on Website: 0\\nPage Views Per Visit: 0\\nLast Activity: Olark Chat Conversation\\nCountry: \\nSpecialization: \\nHow did you hear about X Education: \\nWhat is your current occupation: \\nWhat matters most to you in choosing a course: \\nSearch: No\\nMagazine: No\\nNewspaper Article: No\\nX Education Forums: No\\nNewspaper: No\\nDigital Advertisement: No\\nThrough Recommendations: No\\nReceive More Updates About Our Courses: No\\nTags: \\nLead Quality: \\nUpdate me on Supply Chain Content: No\\nGet updates on DM Content: No\\nLead Profile: \\nCity: \\nAsymmetrique Activity Index: 01.High\\nAsymmetrique Profile Index: 02.Medium\\nAsymmetrique Activity Score: 17\\nAsymmetrique Profile Score: 15\\nI agree to pay the amount through cheque: No\\nA free copy of Mastering The Interview: No\\nLast Notable Activity: Modified<<<<>>>>>﻿Prospect ID: e5c3beca-a0b6-4b3f-8c01-0919fb9ca3f2\\nLead Number: 660534\\nLead Origin: API\\nLead Source: Referral Sites\\nDo Not Email: No\\nDo Not Call: No\\nConverted: 0\\nTotalVisits: 6\\nTotal Time Spent on Website: 973\\nPage Views Per Visit: 6\\nLast Activity: Email Link Clicked\\nCountry: India\\nSpecialization: Select\\nHow did you hear about X Education: Select\\nWhat is your current occupation: Unemployed\\nWhat matters most to you in choosing a course: Better Career Prospects\\nSearch: No\\nMagazine: No\\nNewspaper Article: No\\nX Education Forums: No\\nNewspaper: No\\nDigital Advertisement: No\\nThrough Recommendations: No\\nReceive More Updates About Our Courses: No\\nTags: Interested in other courses\\nLead Quality: Might be\\nUpdate me on Supply Chain Content: No\\nGet updates on DM Content: No\\nLead Profile: Select\\nCity: Select\\nAsymmetrique Activity Index: 02.Medium\\nAsymmetrique Profile Index: 02.Medium\\nAsymmetrique Activity Score: 13\\nAsymmetrique Profile Score: 13\\nI agree to pay the amount through cheque: No\"\n",
            "}\n",
            "\u001b[32;1m\u001b[1;3m[llm/start]\u001b[0m \u001b[1m[1:chain:RetrievalQA > 3:chain:StuffDocumentsChain > 4:chain:LLMChain > 5:llm:ChatOpenAI] Entering LLM run with input:\n",
            "\u001b[0m{\n",
            "  \"prompts\": [\n",
            "    \"System: Use the following pieces of context to answer the users question. \\nIf you don't know the answer, just say that you don't know, don't try to make up an answer.\\n----------------\\n﻿Prospect ID: a8531c22-fcf1-48f8-a711-fb5abf98ad87\\nLead Number: 660553\\nLead Origin: Landing Page Submission\\nLead Source: Direct Traffic\\nDo Not Email: Yes\\nDo Not Call: No\\nConverted: 0\\nTotalVisits: 1\\nTotal Time Spent on Website: 481\\nPage Views Per Visit: 1\\nLast Activity: Email Bounced\\nCountry: Russia\\nSpecialization: Business Administration\\nHow did you hear about X Education: Select\\nWhat is your current occupation: Unemployed\\nWhat matters most to you in choosing a course: Better Career Prospects\\nSearch: No\\nMagazine: No\\nNewspaper Article: No\\nX Education Forums: No\\nNewspaper: No\\nDigital Advertisement: No\\nThrough Recommendations: No\\nReceive More Updates About Our Courses: No\\nTags: \\nLead Quality: \\nUpdate me on Supply Chain Content: No\\nGet updates on DM Content: No\\nLead Profile: Select\\nCity: Select\\nAsymmetrique Activity Index: 01.High\\nAsymmetrique Profile Index: 01.High\\nAsymmetrique Activity Score: 16\\nAsymmetrique Profile Score: 17\\nI agree to pay the amount through cheque: No<<<<>>>>>﻿Prospect ID: 88867067-3750-4753-8d33-1c7d1db53b5e\\nLead Number: 660558\\nLead Origin: Landing Page Submission\\nLead Source: Organic Search\\nDo Not Email: No\\nDo Not Call: No\\nConverted: 0\\nTotalVisits: 5\\nTotal Time Spent on Website: 170\\nPage Views Per Visit: 5\\nLast Activity: Email Opened\\nCountry: India\\nSpecialization: Business Administration\\nHow did you hear about X Education: Select\\nWhat is your current occupation: Unemployed\\nWhat matters most to you in choosing a course: Better Career Prospects\\nSearch: No\\nMagazine: No\\nNewspaper Article: No\\nX Education Forums: No\\nNewspaper: No\\nDigital Advertisement: No\\nThrough Recommendations: No\\nReceive More Updates About Our Courses: No\\nTags: Ringing\\nLead Quality: \\nUpdate me on Supply Chain Content: No\\nGet updates on DM Content: No\\nLead Profile: Select\\nCity: Thane & Outskirts\\nAsymmetrique Activity Index: 02.Medium\\nAsymmetrique Profile Index: 01.High\\nAsymmetrique Activity Score: 14\\nAsymmetrique Profile Score: 17\\nI agree to pay the amount through cheque: No<<<<>>>>>﻿Prospect ID: 3abb7c77-1634-4083-9a9f-861068220611\\nLead Number: 660540\\nLead Origin: API\\nLead Source: Olark Chat\\nDo Not Email: No\\nDo Not Call: No\\nConverted: 0\\nTotalVisits: 0\\nTotal Time Spent on Website: 0\\nPage Views Per Visit: 0\\nLast Activity: Olark Chat Conversation\\nCountry: \\nSpecialization: \\nHow did you hear about X Education: \\nWhat is your current occupation: \\nWhat matters most to you in choosing a course: \\nSearch: No\\nMagazine: No\\nNewspaper Article: No\\nX Education Forums: No\\nNewspaper: No\\nDigital Advertisement: No\\nThrough Recommendations: No\\nReceive More Updates About Our Courses: No\\nTags: \\nLead Quality: \\nUpdate me on Supply Chain Content: No\\nGet updates on DM Content: No\\nLead Profile: \\nCity: \\nAsymmetrique Activity Index: 01.High\\nAsymmetrique Profile Index: 02.Medium\\nAsymmetrique Activity Score: 17\\nAsymmetrique Profile Score: 15\\nI agree to pay the amount through cheque: No\\nA free copy of Mastering The Interview: No\\nLast Notable Activity: Modified<<<<>>>>>﻿Prospect ID: e5c3beca-a0b6-4b3f-8c01-0919fb9ca3f2\\nLead Number: 660534\\nLead Origin: API\\nLead Source: Referral Sites\\nDo Not Email: No\\nDo Not Call: No\\nConverted: 0\\nTotalVisits: 6\\nTotal Time Spent on Website: 973\\nPage Views Per Visit: 6\\nLast Activity: Email Link Clicked\\nCountry: India\\nSpecialization: Select\\nHow did you hear about X Education: Select\\nWhat is your current occupation: Unemployed\\nWhat matters most to you in choosing a course: Better Career Prospects\\nSearch: No\\nMagazine: No\\nNewspaper Article: No\\nX Education Forums: No\\nNewspaper: No\\nDigital Advertisement: No\\nThrough Recommendations: No\\nReceive More Updates About Our Courses: No\\nTags: Interested in other courses\\nLead Quality: Might be\\nUpdate me on Supply Chain Content: No\\nGet updates on DM Content: No\\nLead Profile: Select\\nCity: Select\\nAsymmetrique Activity Index: 02.Medium\\nAsymmetrique Profile Index: 02.Medium\\nAsymmetrique Activity Score: 13\\nAsymmetrique Profile Score: 13\\nI agree to pay the amount through cheque: No\\nHuman: What is the Prospect ID of the lead mentioned in the document?\"\n",
            "  ]\n",
            "}\n",
            "\u001b[36;1m\u001b[1;3m[llm/end]\u001b[0m \u001b[1m[1:chain:RetrievalQA > 3:chain:StuffDocumentsChain > 4:chain:LLMChain > 5:llm:ChatOpenAI] [1.34s] Exiting LLM run with output:\n",
            "\u001b[0m{\n",
            "  \"generations\": [\n",
            "    [\n",
            "      {\n",
            "        \"text\": \"The Prospect ID of the lead mentioned in the document is a8531c22-fcf1-48f8-a711-fb5abf98ad87.\",\n",
            "        \"generation_info\": null,\n",
            "        \"message\": {\n",
            "          \"lc\": 1,\n",
            "          \"type\": \"constructor\",\n",
            "          \"id\": [\n",
            "            \"langchain\",\n",
            "            \"schema\",\n",
            "            \"messages\",\n",
            "            \"AIMessage\"\n",
            "          ],\n",
            "          \"kwargs\": {\n",
            "            \"content\": \"The Prospect ID of the lead mentioned in the document is a8531c22-fcf1-48f8-a711-fb5abf98ad87.\",\n",
            "            \"additional_kwargs\": {}\n",
            "          }\n",
            "        }\n",
            "      }\n",
            "    ]\n",
            "  ],\n",
            "  \"llm_output\": {\n",
            "    \"token_usage\": {\n",
            "      \"prompt_tokens\": 1195,\n",
            "      \"completion_tokens\": 34,\n",
            "      \"total_tokens\": 1229\n",
            "    },\n",
            "    \"model_name\": \"gpt-3.5-turbo\"\n",
            "  },\n",
            "  \"run\": null\n",
            "}\n",
            "\u001b[36;1m\u001b[1;3m[chain/end]\u001b[0m \u001b[1m[1:chain:RetrievalQA > 3:chain:StuffDocumentsChain > 4:chain:LLMChain] [1.34s] Exiting Chain run with output:\n",
            "\u001b[0m{\n",
            "  \"text\": \"The Prospect ID of the lead mentioned in the document is a8531c22-fcf1-48f8-a711-fb5abf98ad87.\"\n",
            "}\n",
            "\u001b[36;1m\u001b[1;3m[chain/end]\u001b[0m \u001b[1m[1:chain:RetrievalQA > 3:chain:StuffDocumentsChain] [1.34s] Exiting Chain run with output:\n",
            "\u001b[0m{\n",
            "  \"output_text\": \"The Prospect ID of the lead mentioned in the document is a8531c22-fcf1-48f8-a711-fb5abf98ad87.\"\n",
            "}\n",
            "\u001b[36;1m\u001b[1;3m[chain/end]\u001b[0m \u001b[1m[1:chain:RetrievalQA] [1.99s] Exiting Chain run with output:\n",
            "\u001b[0m{\n",
            "  \"result\": \"The Prospect ID of the lead mentioned in the document is a8531c22-fcf1-48f8-a711-fb5abf98ad87.\"\n",
            "}\n"
          ]
        }
      ],
      "source": [
        "predictions = qa.apply(new_examples)"
      ]
    },
    {
      "cell_type": "code",
      "execution_count": null,
      "id": "3f635fe7",
      "metadata": {
        "id": "3f635fe7"
      },
      "outputs": [],
      "source": [
        "graded_outputs = eval_chain.evaluate(new_examples, predictions)"
      ]
    },
    {
      "cell_type": "code",
      "execution_count": null,
      "id": "b2358e90",
      "metadata": {
        "id": "b2358e90",
        "outputId": "d2fa9099-d30a-4c91-b423-dd53da346eb7"
      },
      "outputs": [
        {
          "data": {
            "text/plain": [
              "[{'text': 'INCORRECT'},\n",
              " {'text': 'INCORRECT'},\n",
              " {'text': 'INCORRECT'},\n",
              " {'text': 'INCORRECT'},\n",
              " {'text': 'INCORRECT'}]"
            ]
          },
          "execution_count": 40,
          "metadata": {},
          "output_type": "execute_result"
        }
      ],
      "source": [
        "graded_outputs"
      ]
    },
    {
      "cell_type": "markdown",
      "id": "65640d67",
      "metadata": {
        "id": "65640d67"
      },
      "source": [
        "### Agents"
      ]
    },
    {
      "cell_type": "markdown",
      "id": "4fdb7fc9",
      "metadata": {
        "id": "4fdb7fc9"
      },
      "source": [
        "## Search Engine Demo"
      ]
    },
    {
      "cell_type": "code",
      "execution_count": null,
      "id": "3f65ab5d",
      "metadata": {
        "id": "3f65ab5d"
      },
      "outputs": [],
      "source": [
        "from langchain.tools import DuckDuckGoSearchRun\n",
        "search = DuckDuckGoSearchRun()\n",
        "search.run(\"Obama's first name?\")"
      ]
    },
    {
      "cell_type": "markdown",
      "id": "b6c4e322",
      "metadata": {
        "id": "b6c4e322"
      },
      "source": [
        "### Search for research paper in arxiv"
      ]
    },
    {
      "cell_type": "code",
      "execution_count": null,
      "id": "ae340c77",
      "metadata": {
        "id": "ae340c77",
        "outputId": "fb80ac74-0876-489c-bf3a-006449052ec1"
      },
      "outputs": [
        {
          "name": "stdout",
          "output_type": "stream",
          "text": [
            "\n",
            "\n",
            "\u001b[1m> Entering new  chain...\u001b[0m\n",
            "\u001b[32;1m\u001b[1;3mI should use the arxiv tool to search for the paper with the given identifier.\n",
            "Action: arxiv\n",
            "Action Input: 1605.08386\u001b[0m\n",
            "Observation: \u001b[36;1m\u001b[1;3mPublished: 2016-05-26\n",
            "Title: Heat-bath random walks with Markov bases\n",
            "Authors: Caprice Stanley, Tobias Windisch\n",
            "Summary: Graphs on lattice points are studied whose edges come from a finite set of\n",
            "allowed moves of arbitrary length. We show that the diameter of these graphs on\n",
            "fibers of a fixed integer matrix can be bounded from above by a constant. We\n",
            "then study the mixing behaviour of heat-bath random walks on these graphs. We\n",
            "also state explicit conditions on the set of moves so that the heat-bath random\n",
            "walk, a generalization of the Glauber dynamics, is an expander in fixed\n",
            "dimension.\u001b[0m\n",
            "Thought:\u001b[32;1m\u001b[1;3mThe paper \"1605.08386\" is titled \"Heat-bath random walks with Markov bases\" and was published on May 26, 2016. It is authored by Caprice Stanley and Tobias Windisch. The paper discusses the study of graphs on lattice points with edges coming from a finite set of allowed moves. It explores the diameter of these graphs and the mixing behavior of heat-bath random walks on them. The paper also discusses conditions for the heat-bath random walk to be an expander in fixed dimension.\n",
            "Final Answer: The paper \"1605.08386\" is about heat-bath random walks with Markov bases.\u001b[0m\n",
            "\n",
            "\u001b[1m> Finished chain.\u001b[0m\n"
          ]
        },
        {
          "data": {
            "text/plain": [
              "'The paper \"1605.08386\" is about heat-bath random walks with Markov bases.'"
            ]
          },
          "execution_count": 2,
          "metadata": {},
          "output_type": "execute_result"
        }
      ],
      "source": [
        "from langchain.chat_models import ChatOpenAI\n",
        "from langchain.agents import load_tools, initialize_agent, AgentType\n",
        "\n",
        "llm = ChatOpenAI(temperature=0.0)\n",
        "tools = load_tools(\n",
        "    [\"arxiv\"],\n",
        ")"
      ]
    },
    {
      "cell_type": "code",
      "execution_count": null,
      "id": "1377401e",
      "metadata": {
        "id": "1377401e"
      },
      "outputs": [],
      "source": [
        "agent_chain = initialize_agent(\n",
        "    tools,\n",
        "    llm,\n",
        "    agent=AgentType.ZERO_SHOT_REACT_DESCRIPTION,\n",
        "    verbose=True,\n",
        ")\n",
        "\n",
        "agent_chain.run(\n",
        "    \"What's the paper 1605.08386 about?\",\n",
        ")"
      ]
    },
    {
      "cell_type": "markdown",
      "id": "651d7d5e",
      "metadata": {
        "id": "651d7d5e"
      },
      "source": [
        "### Interact like human"
      ]
    },
    {
      "cell_type": "code",
      "execution_count": null,
      "id": "86898552",
      "metadata": {
        "id": "86898552",
        "outputId": "54a7bec6-4e8b-4351-8ac9-d44486030037"
      },
      "outputs": [
        {
          "name": "stdout",
          "output_type": "stream",
          "text": [
            "\n",
            "\n",
            "\u001b[1m> Entering new  chain...\u001b[0m\n",
            "\u001b[32;1m\u001b[1;3mI don't have access to personal information about individuals unless it has been shared with me in the course of this conversation. I should ask the human for guidance.\n",
            "Action: human\n",
            "Action Input: What is Eric's surname?\u001b[0m\n",
            "\n",
            "What is Eric's surname?\n",
            "Zhu\n",
            "\n",
            "Observation: \u001b[36;1m\u001b[1;3mZhu\u001b[0m\n",
            "Thought:\u001b[32;1m\u001b[1;3mI now know Eric's surname.\n",
            "Final Answer: Eric's surname is Zhu.\u001b[0m\n",
            "\n",
            "\u001b[1m> Finished chain.\u001b[0m\n"
          ]
        },
        {
          "data": {
            "text/plain": [
              "\"Eric's surname is Zhu.\""
            ]
          },
          "execution_count": 3,
          "metadata": {},
          "output_type": "execute_result"
        }
      ],
      "source": [
        "from langchain.chat_models import ChatOpenAI\n",
        "from langchain.llms import OpenAI\n",
        "from langchain.agents import load_tools, initialize_agent\n",
        "from langchain.agents import AgentType\n",
        "\n",
        "llm = ChatOpenAI(temperature=0.0)\n",
        "math_llm = OpenAI(temperature=0.0)\n",
        "tools = load_tools(\n",
        "    [\"human\", \"llm-math\"],\n",
        "    llm=math_llm,\n",
        ")\n",
        "\n",
        "agent_chain = initialize_agent(\n",
        "    tools,\n",
        "    llm,\n",
        "    agent=AgentType.ZERO_SHOT_REACT_DESCRIPTION,\n",
        "    verbose=True,\n",
        ")\n",
        "\n",
        "\n",
        "agent_chain.run(\"What's my friend Eric's surname?\")"
      ]
    },
    {
      "cell_type": "markdown",
      "id": "c5555271",
      "metadata": {
        "id": "c5555271"
      },
      "source": [
        "### search for youtube video"
      ]
    },
    {
      "cell_type": "code",
      "execution_count": null,
      "id": "b504a926",
      "metadata": {
        "id": "b504a926",
        "outputId": "067ffbc1-5122-462b-8e0b-5f991fb73dc5"
      },
      "outputs": [
        {
          "data": {
            "text/plain": [
              "\"['/watch?v=Ff4fRgnuFgQ&pp=ygUMbGV4IGZyaWVkbWFu', '/watch?v=-hxeDjAxvJ8&pp=ygUMbGV4IGZyaWVkbWFu', '/watch?v=8qgIFD0PaWo&pp=ygUMbGV4IGZyaWVkbWFu', '/watch?v=pdJQ8iVTwj8&pp=ygUMbGV4IGZyaWVkbWFu', '/watch?v=L_Guz73e6fw&pp=ygUMbGV4IGZyaWVkbWFu', '/watch?v=YDjOS0VHEr4&pp=ygUMbGV4IGZyaWVkbWFu', '/watch?v=IQnUa5Bq5x4&pp=ygUMbGV4IGZyaWVkbWFu', '/watch?v=PdE-waSx-d8&pp=ygUMbGV4IGZyaWVkbWFu', '/watch?v=1Wy-6z17up4&pp=ygUMbGV4IGZyaWVkbWFu', '/watch?v=wMavKrA-4do&pp=ygUMbGV4IGZyaWVkbWFu']\""
            ]
          },
          "execution_count": 11,
          "metadata": {},
          "output_type": "execute_result"
        }
      ],
      "source": [
        "from langchain.tools import YouTubeSearchTool\n",
        "\n",
        "tool = YouTubeSearchTool()\n",
        "\n",
        "tool.run(\"lex friedman,10\")"
      ]
    },
    {
      "cell_type": "code",
      "execution_count": null,
      "id": "d81762b8",
      "metadata": {
        "id": "d81762b8"
      },
      "outputs": [],
      "source": []
    }
  ],
  "metadata": {
    "kernelspec": {
      "display_name": "Python 3 (ipykernel)",
      "language": "python",
      "name": "python3"
    },
    "language_info": {
      "codemirror_mode": {
        "name": "ipython",
        "version": 3
      },
      "file_extension": ".py",
      "mimetype": "text/x-python",
      "name": "python",
      "nbconvert_exporter": "python",
      "pygments_lexer": "ipython3",
      "version": "3.11.4"
    },
    "colab": {
      "provenance": [],
      "toc_visible": true
    }
  },
  "nbformat": 4,
  "nbformat_minor": 5
}