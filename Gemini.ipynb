{
  "nbformat": 4,
  "nbformat_minor": 0,
  "metadata": {
    "colab": {
      "provenance": []
    },
    "kernelspec": {
      "name": "python3",
      "display_name": "Python 3"
    },
    "language_info": {
      "name": "python"
    }
  },
  "cells": [
    {
      "cell_type": "code",
      "source": [
        "import google.generativeai as genai\n",
        "import os"
      ],
      "metadata": {
        "id": "FFeprjRPwY3Q"
      },
      "execution_count": null,
      "outputs": []
    },
    {
      "cell_type": "code",
      "source": [
        "# Replace with your actual API key\n",
        "os.environ['GOOGLE_API_KEY'] = 'AIzaSyCs2uYa-p4LgoOCfOOxxxxxxxxxxxxxxxxxx'\n",
        "genai.configure()"
      ],
      "metadata": {
        "id": "EhwMQP4Gwbqr"
      },
      "execution_count": null,
      "outputs": []
    },
    {
      "cell_type": "code",
      "source": [
        "model = genai.GenerativeModel('gemini-pro')"
      ],
      "metadata": {
        "id": "FufE339rwfrL"
      },
      "execution_count": null,
      "outputs": []
    },
    {
      "cell_type": "code",
      "source": [
        "response = model.generate_content(\"Who is Sam Altman?\")\n",
        "print(response.text)"
      ],
      "metadata": {
        "colab": {
          "base_uri": "https://localhost:8080/",
          "height": 198
        },
        "id": "bKlBvYFcwzlS",
        "outputId": "70d35a08-feda-4282-dba0-ed61571cd5d5"
      },
      "execution_count": null,
      "outputs": [
        {
          "output_type": "stream",
          "name": "stdout",
          "text": [
            "Sam Altman is an American entrepreneur, programmer, and investor. He is the co-founder and former CEO of the artificial intelligence company OpenAI, which he led from its inception in 2015 until his resignation in 2019. He is also the chairman of the research and development institute World Economic Forum's Global Future Council on Artificial Intelligence for Humanity.\n",
            "\n",
            "Altman is a prominent figure in the field of artificial intelligence and is known for his advocacy for the responsible development and use of AI. He has been involved in a number of projects aimed at ensuring that AI is used for the benefit of humanity, including the development of OpenAI's Charter for the Responsible Development of AI.\n",
            "\n",
            "In addition to his work in AI, Altman is also a successful investor and entrepreneur. He is the founder and CEO of the venture capital firm Looptworks, which invests in early-stage startups. He is also a co-founder of the social media platform Reddit and the mobile payments company Stripe.\n",
            "\n",
            "Altman has been recognized for his achievements in technology and business. He was named one of the \"50 Most Powerful People in Tech\" by Bloomberg Businessweek in 2016 and was included in the Forbes \"30 Under 30\" list in 2015. In 2019, he was awarded the Thiel Fellowship, a two-year, $100,000 grant given to young entrepreneurs who have dropped out of college to pursue their own projects.\n",
            "\n",
            "Altman is a vocal advocate for the effective use of artificial intelligence and is a frequent speaker at conferences and events on AI and technology. He is also a regular contributor to publications such as The New York Times, The Atlantic, and Wired.\n"
          ]
        }
      ]
    },
    {
      "cell_type": "code",
      "source": [
        "response = model.generate_content(\"Tell me about OpenAI?\",\n",
        "                                  generation_config = genai.types.GenerationConfig(\n",
        "                                  candidate_count = 1,\n",
        "                                  stop_sequences = ['.'],\n",
        "                                  max_output_tokens = 100,\n",
        "                                  top_p = 0.6,\n",
        "                                  top_k = 5,\n",
        "                                  temperature = 0.1)\n",
        "                                )\n",
        "print(response.text)"
      ],
      "metadata": {
        "colab": {
          "base_uri": "https://localhost:8080/",
          "height": 55
        },
        "id": "251Cb1OQySSU",
        "outputId": "c72f7000-1e62-42e1-b391-1b0c7b957ab8"
      },
      "execution_count": null,
      "outputs": [
        {
          "output_type": "stream",
          "name": "stdout",
          "text": [
            "OpenAI is a non-profit research company dedicated to developing safe and beneficial artificial general intelligence (AGI)\n"
          ]
        }
      ]
    },
    {
      "cell_type": "code",
      "source": [
        "import PIL.Image\n",
        "\n",
        "image = PIL.Image.open('/content/elon musk.jpeg')\n",
        "vision_model = genai.GenerativeModel('gemini-pro-vision')\n",
        "response = vision_model.generate_content([\"Explain the picture?\",image])\n",
        "print(response.text)"
      ],
      "metadata": {
        "colab": {
          "base_uri": "https://localhost:8080/",
          "height": 55
        },
        "id": "Ba6gxYqrzEAq",
        "outputId": "13f6d986-1edf-46c5-c082-15666ec40e1c"
      },
      "execution_count": null,
      "outputs": [
        {
          "output_type": "stream",
          "name": "stdout",
          "text": [
            " The picture shows Elon Musk, the CEO of Tesla and SpaceX, smoking a blunt. The picture was taken during an interview with Joe Rogan. Musk has been a vocal advocate of marijuana legalization. In the interview, he discussed his personal experiences with marijuana and his belief that it is a safe and effective drug.\n"
          ]
        }
      ]
    },
    {
      "cell_type": "markdown",
      "source": [],
      "metadata": {
        "id": "kYIOQHVR_FU2"
      }
    },
    {
      "cell_type": "code",
      "source": [
        "image = PIL.Image.open('/content/picture1.jpg')\n",
        "vision_model = genai.GenerativeModel('gemini-pro-vision')\n",
        "response = vision_model.generate_content([\"Write a story from the picture\",image])\n",
        "print(response.text)"
      ],
      "metadata": {
        "colab": {
          "base_uri": "https://localhost:8080/",
          "height": 376
        },
        "id": "DZxW2RTN0kKQ",
        "outputId": "b0ae861a-dfe4-4a85-af93-0448718c914a"
      },
      "execution_count": null,
      "outputs": [
        {
          "output_type": "stream",
          "name": "stdout",
          "text": [
            " The family of four stood at the top of the mountain, taking in the breathtaking view. The sun was shining brightly, and the air was crisp and clean. They could see for miles in every direction, and the mountains seemed to stretch on forever.\n",
            "\n",
            "The parents, John and Mary, were both experienced hikers, and they had been planning this trip for months. They were excited to finally be here, and they couldn't wait to explore the mountains.\n",
            "\n",
            "Their children, Sarah and Michael, were also enjoying the experience. They had never been to the mountains before, and they were amazed by the size and beauty of them. They were also excited to be spending time with their parents and to be having a new adventure.\n",
            "\n",
            "The family spent the next few days hiking and exploring the mountains. They saw beautiful waterfalls, glaciers, and wildlife. They also met some interesting people from all over the world.\n",
            "\n",
            "One day, the family was hiking on a particularly challenging trail when they came to a fork in the road. One path led up to the summit of the mountain, and the other path led down to a valley. The family decided to take the path to the summit.\n",
            "\n",
            "The path to the summit was steep and difficult, but the family persevered. They helped each other along the way, and they encouraged each other to keep going.\n",
            "\n",
            "Finally, after several hours of hiking, the family reached the summit of the mountain. They were rewarded with a spectacular view of the surrounding mountains. They could also see for miles in every direction.\n",
            "\n",
            "The family was exhausted, but they were also exhilarated. They had accomplished something great, and they had made memories that would last a lifetime.\n",
            "\n",
            "The family spent the rest of the day enjoying the view from the summit. They talked about their hike, and they laughed and joked. They also took some pictures to remember their trip.\n",
            "\n",
            "As the sun began to set, the family started to make their way back down the mountain. They were tired, but they were also happy. They had had a wonderful day, and they had made memories that they would cherish forever.\n"
          ]
        }
      ]
    }
  ]
}