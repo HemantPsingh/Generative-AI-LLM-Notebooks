{
  "nbformat": 4,
  "nbformat_minor": 0,
  "metadata": {
    "colab": {
      "provenance": []
    },
    "kernelspec": {
      "name": "python3",
      "display_name": "Python 3"
    },
    "language_info": {
      "name": "python"
    },
    "accelerator": "GPU",
    "gpuClass": "standard"
  },
  "cells": [
    {
      "cell_type": "markdown",
      "source": [
        "## Importing all the dependecies"
      ],
      "metadata": {
        "id": "M7BjWHKVNRDt"
      }
    },
    {
      "cell_type": "code",
      "source": [
        "#!pip install tensorflow-text"
      ],
      "metadata": {
        "colab": {
          "base_uri": "https://localhost:8080/"
        },
        "id": "zBqedB65Nsrd",
        "outputId": "2b83c71c-cdac-4ce2-a9db-59f7f5c70c8d"
      },
      "execution_count": null,
      "outputs": [
        {
          "output_type": "stream",
          "name": "stdout",
          "text": [
            "Looking in indexes: https://pypi.org/simple, https://us-python.pkg.dev/colab-wheels/public/simple/\n",
            "Requirement already satisfied: tensorflow-text in /usr/local/lib/python3.7/dist-packages (2.9.0)\n",
            "Requirement already satisfied: tensorflow<2.10,>=2.9.0 in /usr/local/lib/python3.7/dist-packages (from tensorflow-text) (2.9.1)\n",
            "Requirement already satisfied: tensorflow-hub>=0.8.0 in /usr/local/lib/python3.7/dist-packages (from tensorflow-text) (0.12.0)\n",
            "Requirement already satisfied: keras<2.10.0,>=2.9.0rc0 in /usr/local/lib/python3.7/dist-packages (from tensorflow<2.10,>=2.9.0->tensorflow-text) (2.9.0)\n",
            "Requirement already satisfied: flatbuffers<2,>=1.12 in /usr/local/lib/python3.7/dist-packages (from tensorflow<2.10,>=2.9.0->tensorflow-text) (1.12)\n",
            "Requirement already satisfied: grpcio<2.0,>=1.24.3 in /usr/local/lib/python3.7/dist-packages (from tensorflow<2.10,>=2.9.0->tensorflow-text) (1.46.3)\n",
            "Requirement already satisfied: protobuf<3.20,>=3.9.2 in /usr/local/lib/python3.7/dist-packages (from tensorflow<2.10,>=2.9.0->tensorflow-text) (3.17.3)\n",
            "Requirement already satisfied: tensorboard<2.10,>=2.9 in /usr/local/lib/python3.7/dist-packages (from tensorflow<2.10,>=2.9.0->tensorflow-text) (2.9.1)\n",
            "Requirement already satisfied: keras-preprocessing>=1.1.1 in /usr/local/lib/python3.7/dist-packages (from tensorflow<2.10,>=2.9.0->tensorflow-text) (1.1.2)\n",
            "Requirement already satisfied: google-pasta>=0.1.1 in /usr/local/lib/python3.7/dist-packages (from tensorflow<2.10,>=2.9.0->tensorflow-text) (0.2.0)\n",
            "Requirement already satisfied: wrapt>=1.11.0 in /usr/local/lib/python3.7/dist-packages (from tensorflow<2.10,>=2.9.0->tensorflow-text) (1.14.1)\n",
            "Requirement already satisfied: gast<=0.4.0,>=0.2.1 in /usr/local/lib/python3.7/dist-packages (from tensorflow<2.10,>=2.9.0->tensorflow-text) (0.4.0)\n",
            "Requirement already satisfied: astunparse>=1.6.0 in /usr/local/lib/python3.7/dist-packages (from tensorflow<2.10,>=2.9.0->tensorflow-text) (1.6.3)\n",
            "Requirement already satisfied: packaging in /usr/local/lib/python3.7/dist-packages (from tensorflow<2.10,>=2.9.0->tensorflow-text) (21.3)\n",
            "Requirement already satisfied: setuptools in /usr/local/lib/python3.7/dist-packages (from tensorflow<2.10,>=2.9.0->tensorflow-text) (57.4.0)\n",
            "Requirement already satisfied: libclang>=13.0.0 in /usr/local/lib/python3.7/dist-packages (from tensorflow<2.10,>=2.9.0->tensorflow-text) (14.0.1)\n",
            "Requirement already satisfied: typing-extensions>=3.6.6 in /usr/local/lib/python3.7/dist-packages (from tensorflow<2.10,>=2.9.0->tensorflow-text) (4.1.1)\n",
            "Requirement already satisfied: tensorflow-io-gcs-filesystem>=0.23.1 in /usr/local/lib/python3.7/dist-packages (from tensorflow<2.10,>=2.9.0->tensorflow-text) (0.26.0)\n",
            "Requirement already satisfied: opt-einsum>=2.3.2 in /usr/local/lib/python3.7/dist-packages (from tensorflow<2.10,>=2.9.0->tensorflow-text) (3.3.0)\n",
            "Requirement already satisfied: tensorflow-estimator<2.10.0,>=2.9.0rc0 in /usr/local/lib/python3.7/dist-packages (from tensorflow<2.10,>=2.9.0->tensorflow-text) (2.9.0)\n",
            "Requirement already satisfied: h5py>=2.9.0 in /usr/local/lib/python3.7/dist-packages (from tensorflow<2.10,>=2.9.0->tensorflow-text) (3.1.0)\n",
            "Requirement already satisfied: numpy>=1.20 in /usr/local/lib/python3.7/dist-packages (from tensorflow<2.10,>=2.9.0->tensorflow-text) (1.21.6)\n",
            "Requirement already satisfied: absl-py>=1.0.0 in /usr/local/lib/python3.7/dist-packages (from tensorflow<2.10,>=2.9.0->tensorflow-text) (1.1.0)\n",
            "Requirement already satisfied: six>=1.12.0 in /usr/local/lib/python3.7/dist-packages (from tensorflow<2.10,>=2.9.0->tensorflow-text) (1.15.0)\n",
            "Requirement already satisfied: termcolor>=1.1.0 in /usr/local/lib/python3.7/dist-packages (from tensorflow<2.10,>=2.9.0->tensorflow-text) (1.1.0)\n",
            "Requirement already satisfied: wheel<1.0,>=0.23.0 in /usr/local/lib/python3.7/dist-packages (from astunparse>=1.6.0->tensorflow<2.10,>=2.9.0->tensorflow-text) (0.37.1)\n",
            "Requirement already satisfied: cached-property in /usr/local/lib/python3.7/dist-packages (from h5py>=2.9.0->tensorflow<2.10,>=2.9.0->tensorflow-text) (1.5.2)\n",
            "Requirement already satisfied: requests<3,>=2.21.0 in /usr/local/lib/python3.7/dist-packages (from tensorboard<2.10,>=2.9->tensorflow<2.10,>=2.9.0->tensorflow-text) (2.23.0)\n",
            "Requirement already satisfied: markdown>=2.6.8 in /usr/local/lib/python3.7/dist-packages (from tensorboard<2.10,>=2.9->tensorflow<2.10,>=2.9.0->tensorflow-text) (3.3.7)\n",
            "Requirement already satisfied: werkzeug>=1.0.1 in /usr/local/lib/python3.7/dist-packages (from tensorboard<2.10,>=2.9->tensorflow<2.10,>=2.9.0->tensorflow-text) (1.0.1)\n",
            "Requirement already satisfied: tensorboard-data-server<0.7.0,>=0.6.0 in /usr/local/lib/python3.7/dist-packages (from tensorboard<2.10,>=2.9->tensorflow<2.10,>=2.9.0->tensorflow-text) (0.6.1)\n",
            "Requirement already satisfied: tensorboard-plugin-wit>=1.6.0 in /usr/local/lib/python3.7/dist-packages (from tensorboard<2.10,>=2.9->tensorflow<2.10,>=2.9.0->tensorflow-text) (1.8.1)\n",
            "Requirement already satisfied: google-auth<3,>=1.6.3 in /usr/local/lib/python3.7/dist-packages (from tensorboard<2.10,>=2.9->tensorflow<2.10,>=2.9.0->tensorflow-text) (1.35.0)\n",
            "Requirement already satisfied: google-auth-oauthlib<0.5,>=0.4.1 in /usr/local/lib/python3.7/dist-packages (from tensorboard<2.10,>=2.9->tensorflow<2.10,>=2.9.0->tensorflow-text) (0.4.6)\n",
            "Requirement already satisfied: pyasn1-modules>=0.2.1 in /usr/local/lib/python3.7/dist-packages (from google-auth<3,>=1.6.3->tensorboard<2.10,>=2.9->tensorflow<2.10,>=2.9.0->tensorflow-text) (0.2.8)\n",
            "Requirement already satisfied: rsa<5,>=3.1.4 in /usr/local/lib/python3.7/dist-packages (from google-auth<3,>=1.6.3->tensorboard<2.10,>=2.9->tensorflow<2.10,>=2.9.0->tensorflow-text) (4.8)\n",
            "Requirement already satisfied: cachetools<5.0,>=2.0.0 in /usr/local/lib/python3.7/dist-packages (from google-auth<3,>=1.6.3->tensorboard<2.10,>=2.9->tensorflow<2.10,>=2.9.0->tensorflow-text) (4.2.4)\n",
            "Requirement already satisfied: requests-oauthlib>=0.7.0 in /usr/local/lib/python3.7/dist-packages (from google-auth-oauthlib<0.5,>=0.4.1->tensorboard<2.10,>=2.9->tensorflow<2.10,>=2.9.0->tensorflow-text) (1.3.1)\n",
            "Requirement already satisfied: importlib-metadata>=4.4 in /usr/local/lib/python3.7/dist-packages (from markdown>=2.6.8->tensorboard<2.10,>=2.9->tensorflow<2.10,>=2.9.0->tensorflow-text) (4.11.4)\n",
            "Requirement already satisfied: zipp>=0.5 in /usr/local/lib/python3.7/dist-packages (from importlib-metadata>=4.4->markdown>=2.6.8->tensorboard<2.10,>=2.9->tensorflow<2.10,>=2.9.0->tensorflow-text) (3.8.0)\n",
            "Requirement already satisfied: pyasn1<0.5.0,>=0.4.6 in /usr/local/lib/python3.7/dist-packages (from pyasn1-modules>=0.2.1->google-auth<3,>=1.6.3->tensorboard<2.10,>=2.9->tensorflow<2.10,>=2.9.0->tensorflow-text) (0.4.8)\n",
            "Requirement already satisfied: idna<3,>=2.5 in /usr/local/lib/python3.7/dist-packages (from requests<3,>=2.21.0->tensorboard<2.10,>=2.9->tensorflow<2.10,>=2.9.0->tensorflow-text) (2.10)\n",
            "Requirement already satisfied: certifi>=2017.4.17 in /usr/local/lib/python3.7/dist-packages (from requests<3,>=2.21.0->tensorboard<2.10,>=2.9->tensorflow<2.10,>=2.9.0->tensorflow-text) (2022.6.15)\n",
            "Requirement already satisfied: urllib3!=1.25.0,!=1.25.1,<1.26,>=1.21.1 in /usr/local/lib/python3.7/dist-packages (from requests<3,>=2.21.0->tensorboard<2.10,>=2.9->tensorflow<2.10,>=2.9.0->tensorflow-text) (1.24.3)\n",
            "Requirement already satisfied: chardet<4,>=3.0.2 in /usr/local/lib/python3.7/dist-packages (from requests<3,>=2.21.0->tensorboard<2.10,>=2.9->tensorflow<2.10,>=2.9.0->tensorflow-text) (3.0.4)\n",
            "Requirement already satisfied: oauthlib>=3.0.0 in /usr/local/lib/python3.7/dist-packages (from requests-oauthlib>=0.7.0->google-auth-oauthlib<0.5,>=0.4.1->tensorboard<2.10,>=2.9->tensorflow<2.10,>=2.9.0->tensorflow-text) (3.2.0)\n",
            "Requirement already satisfied: pyparsing!=3.0.5,>=2.0.2 in /usr/local/lib/python3.7/dist-packages (from packaging->tensorflow<2.10,>=2.9.0->tensorflow-text) (3.0.9)\n"
          ]
        }
      ]
    },
    {
      "cell_type": "code",
      "execution_count": null,
      "metadata": {
        "id": "Ye5MReQJDAQ_"
      },
      "outputs": [],
      "source": [
        "import pandas as pd\n",
        "from sklearn.model_selection import train_test_split\n",
        "import tensorflow_hub as hub\n",
        "import tensorflow as tf\n",
        "import tensorflow_text as text"
      ]
    },
    {
      "cell_type": "markdown",
      "source": [
        "## Load and read the data"
      ],
      "metadata": {
        "id": "JQvGTx5VNfj9"
      }
    },
    {
      "cell_type": "code",
      "source": [
        "# Read the data\n",
        "data = pd.read_csv('https://raw.githubusercontent.com/analyticsindiamagazine/MocksDatasets/main/NLP-movie-review.csv')"
      ],
      "metadata": {
        "id": "UuVYoO5NH9Hn"
      },
      "execution_count": null,
      "outputs": []
    },
    {
      "cell_type": "code",
      "source": [
        "# Top 5 rows\n",
        "data.head()"
      ],
      "metadata": {
        "colab": {
          "base_uri": "https://localhost:8080/",
          "height": 206
        },
        "id": "j0RCQx-UJU-f",
        "outputId": "25056165-4065-45dd-c4dd-8e6f60643d06"
      },
      "execution_count": null,
      "outputs": [
        {
          "output_type": "execute_result",
          "data": {
            "text/plain": [
              "                                        review  reaction\n",
              "0            Service is friendly and inviting.         1\n",
              "1                    Awesome service and food.         1\n",
              "2       Waitress was a little slow in service.         0\n",
              "3        Come hungry, leave happy and stuffed!         1\n",
              "4  Horrible - don't waste your time and money.         0"
            ],
            "text/html": [
              "\n",
              "  <div id=\"df-f49cdecf-8adf-49f9-bb4e-47a80261a32b\">\n",
              "    <div class=\"colab-df-container\">\n",
              "      <div>\n",
              "<style scoped>\n",
              "    .dataframe tbody tr th:only-of-type {\n",
              "        vertical-align: middle;\n",
              "    }\n",
              "\n",
              "    .dataframe tbody tr th {\n",
              "        vertical-align: top;\n",
              "    }\n",
              "\n",
              "    .dataframe thead th {\n",
              "        text-align: right;\n",
              "    }\n",
              "</style>\n",
              "<table border=\"1\" class=\"dataframe\">\n",
              "  <thead>\n",
              "    <tr style=\"text-align: right;\">\n",
              "      <th></th>\n",
              "      <th>review</th>\n",
              "      <th>reaction</th>\n",
              "    </tr>\n",
              "  </thead>\n",
              "  <tbody>\n",
              "    <tr>\n",
              "      <th>0</th>\n",
              "      <td>Service is friendly and inviting.</td>\n",
              "      <td>1</td>\n",
              "    </tr>\n",
              "    <tr>\n",
              "      <th>1</th>\n",
              "      <td>Awesome service and food.</td>\n",
              "      <td>1</td>\n",
              "    </tr>\n",
              "    <tr>\n",
              "      <th>2</th>\n",
              "      <td>Waitress was a little slow in service.</td>\n",
              "      <td>0</td>\n",
              "    </tr>\n",
              "    <tr>\n",
              "      <th>3</th>\n",
              "      <td>Come hungry, leave happy and stuffed!</td>\n",
              "      <td>1</td>\n",
              "    </tr>\n",
              "    <tr>\n",
              "      <th>4</th>\n",
              "      <td>Horrible - don't waste your time and money.</td>\n",
              "      <td>0</td>\n",
              "    </tr>\n",
              "  </tbody>\n",
              "</table>\n",
              "</div>\n",
              "      <button class=\"colab-df-convert\" onclick=\"convertToInteractive('df-f49cdecf-8adf-49f9-bb4e-47a80261a32b')\"\n",
              "              title=\"Convert this dataframe to an interactive table.\"\n",
              "              style=\"display:none;\">\n",
              "        \n",
              "  <svg xmlns=\"http://www.w3.org/2000/svg\" height=\"24px\"viewBox=\"0 0 24 24\"\n",
              "       width=\"24px\">\n",
              "    <path d=\"M0 0h24v24H0V0z\" fill=\"none\"/>\n",
              "    <path d=\"M18.56 5.44l.94 2.06.94-2.06 2.06-.94-2.06-.94-.94-2.06-.94 2.06-2.06.94zm-11 1L8.5 8.5l.94-2.06 2.06-.94-2.06-.94L8.5 2.5l-.94 2.06-2.06.94zm10 10l.94 2.06.94-2.06 2.06-.94-2.06-.94-.94-2.06-.94 2.06-2.06.94z\"/><path d=\"M17.41 7.96l-1.37-1.37c-.4-.4-.92-.59-1.43-.59-.52 0-1.04.2-1.43.59L10.3 9.45l-7.72 7.72c-.78.78-.78 2.05 0 2.83L4 21.41c.39.39.9.59 1.41.59.51 0 1.02-.2 1.41-.59l7.78-7.78 2.81-2.81c.8-.78.8-2.07 0-2.86zM5.41 20L4 18.59l7.72-7.72 1.47 1.35L5.41 20z\"/>\n",
              "  </svg>\n",
              "      </button>\n",
              "      \n",
              "  <style>\n",
              "    .colab-df-container {\n",
              "      display:flex;\n",
              "      flex-wrap:wrap;\n",
              "      gap: 12px;\n",
              "    }\n",
              "\n",
              "    .colab-df-convert {\n",
              "      background-color: #E8F0FE;\n",
              "      border: none;\n",
              "      border-radius: 50%;\n",
              "      cursor: pointer;\n",
              "      display: none;\n",
              "      fill: #1967D2;\n",
              "      height: 32px;\n",
              "      padding: 0 0 0 0;\n",
              "      width: 32px;\n",
              "    }\n",
              "\n",
              "    .colab-df-convert:hover {\n",
              "      background-color: #E2EBFA;\n",
              "      box-shadow: 0px 1px 2px rgba(60, 64, 67, 0.3), 0px 1px 3px 1px rgba(60, 64, 67, 0.15);\n",
              "      fill: #174EA6;\n",
              "    }\n",
              "\n",
              "    [theme=dark] .colab-df-convert {\n",
              "      background-color: #3B4455;\n",
              "      fill: #D2E3FC;\n",
              "    }\n",
              "\n",
              "    [theme=dark] .colab-df-convert:hover {\n",
              "      background-color: #434B5C;\n",
              "      box-shadow: 0px 1px 3px 1px rgba(0, 0, 0, 0.15);\n",
              "      filter: drop-shadow(0px 1px 2px rgba(0, 0, 0, 0.3));\n",
              "      fill: #FFFFFF;\n",
              "    }\n",
              "  </style>\n",
              "\n",
              "      <script>\n",
              "        const buttonEl =\n",
              "          document.querySelector('#df-f49cdecf-8adf-49f9-bb4e-47a80261a32b button.colab-df-convert');\n",
              "        buttonEl.style.display =\n",
              "          google.colab.kernel.accessAllowed ? 'block' : 'none';\n",
              "\n",
              "        async function convertToInteractive(key) {\n",
              "          const element = document.querySelector('#df-f49cdecf-8adf-49f9-bb4e-47a80261a32b');\n",
              "          const dataTable =\n",
              "            await google.colab.kernel.invokeFunction('convertToInteractive',\n",
              "                                                     [key], {});\n",
              "          if (!dataTable) return;\n",
              "\n",
              "          const docLinkHtml = 'Like what you see? Visit the ' +\n",
              "            '<a target=\"_blank\" href=https://colab.research.google.com/notebooks/data_table.ipynb>data table notebook</a>'\n",
              "            + ' to learn more about interactive tables.';\n",
              "          element.innerHTML = '';\n",
              "          dataTable['output_type'] = 'display_data';\n",
              "          await google.colab.output.renderOutput(dataTable, element);\n",
              "          const docLink = document.createElement('div');\n",
              "          docLink.innerHTML = docLinkHtml;\n",
              "          element.appendChild(docLink);\n",
              "        }\n",
              "      </script>\n",
              "    </div>\n",
              "  </div>\n",
              "  "
            ]
          },
          "metadata": {},
          "execution_count": 89
        }
      ]
    },
    {
      "cell_type": "code",
      "source": [
        "# data info\n",
        "data.info()"
      ],
      "metadata": {
        "colab": {
          "base_uri": "https://localhost:8080/"
        },
        "id": "BOPF0vQtK2fJ",
        "outputId": "aaade347-8f50-43db-e92b-2444ae316136"
      },
      "execution_count": null,
      "outputs": [
        {
          "output_type": "stream",
          "name": "stdout",
          "text": [
            "<class 'pandas.core.frame.DataFrame'>\n",
            "RangeIndex: 1000 entries, 0 to 999\n",
            "Data columns (total 2 columns):\n",
            " #   Column    Non-Null Count  Dtype \n",
            "---  ------    --------------  ----- \n",
            " 0   review    1000 non-null   object\n",
            " 1   reaction  1000 non-null   int64 \n",
            "dtypes: int64(1), object(1)\n",
            "memory usage: 15.8+ KB\n"
          ]
        }
      ]
    },
    {
      "cell_type": "code",
      "source": [
        "# target values counts\n",
        "data.reaction.value_counts()"
      ],
      "metadata": {
        "colab": {
          "base_uri": "https://localhost:8080/"
        },
        "id": "p9HBVD2WK2dP",
        "outputId": "b70f9efb-c4b6-4e05-a92f-729438f202b7"
      },
      "execution_count": null,
      "outputs": [
        {
          "output_type": "execute_result",
          "data": {
            "text/plain": [
              "1    500\n",
              "0    500\n",
              "Name: reaction, dtype: int64"
            ]
          },
          "metadata": {},
          "execution_count": 91
        }
      ]
    },
    {
      "cell_type": "markdown",
      "source": [
        "## Splitting the data"
      ],
      "metadata": {
        "id": "eCptldi9N6wL"
      }
    },
    {
      "cell_type": "code",
      "source": [
        "x_train, x_test, y_train, y_test = train_test_split(data.review.values, data.reaction.values, random_state = 42, test_size = .20)"
      ],
      "metadata": {
        "id": "exUOlSvBK_6z"
      },
      "execution_count": null,
      "outputs": []
    },
    {
      "cell_type": "code",
      "source": [
        "# train data shape\n",
        "x_train.shape, y_train.shape"
      ],
      "metadata": {
        "colab": {
          "base_uri": "https://localhost:8080/"
        },
        "id": "oXzNoblCJX0l",
        "outputId": "ddd55cc7-323e-4199-9c08-1a92548ff1bd"
      },
      "execution_count": null,
      "outputs": [
        {
          "output_type": "execute_result",
          "data": {
            "text/plain": [
              "((800,), (800,))"
            ]
          },
          "metadata": {},
          "execution_count": 93
        }
      ]
    },
    {
      "cell_type": "code",
      "source": [
        "# test data shape\n",
        "x_test.shape, y_test.shape"
      ],
      "metadata": {
        "colab": {
          "base_uri": "https://localhost:8080/"
        },
        "id": "GSxUJZiUNDhP",
        "outputId": "ebf2751a-836a-4b61-df2e-5f00f99b698f"
      },
      "execution_count": null,
      "outputs": [
        {
          "output_type": "execute_result",
          "data": {
            "text/plain": [
              "((200,), (200,))"
            ]
          },
          "metadata": {},
          "execution_count": 94
        }
      ]
    },
    {
      "cell_type": "markdown",
      "source": [
        "## Loading, finetuning and training the BERT model"
      ],
      "metadata": {
        "id": "S0dth4yNOaYp"
      }
    },
    {
      "cell_type": "code",
      "source": [
        "# Load the BERT layers\n",
        "bert_preprocess = hub.KerasLayer('https://tfhub.dev/tensorflow/bert_en_uncased_preprocess/3')\n",
        "bert_encoder = hub.KerasLayer('https://tfhub.dev/tensorflow/bert_en_uncased_L-12_H-768_A-12/4')"
      ],
      "metadata": {
        "id": "Cig39nddJx2n"
      },
      "execution_count": null,
      "outputs": []
    },
    {
      "cell_type": "code",
      "source": [
        "# Bert layers\n",
        "text_input = tf.keras.layers.Input(shape=(), dtype=tf.string, name='text')\n",
        "preprocessed_text = bert_preprocess(text_input)\n",
        "outputs = bert_encoder(preprocessed_text)\n",
        "# Neural network layers\n",
        "#l = tf.keras.layers.Dropout(0.1, name=\"dropout\")(outputs['pooled_output'])\n",
        "l = tf.keras.layers.Dense(1, activation='sigmoid', name=\"output\")(outputs['pooled_output'])\n",
        "# Use inputs and outputs to construct a final model\n",
        "model = tf.keras.Model(inputs=[text_input], outputs = [l])"
      ],
      "metadata": {
        "id": "b-nK74TyKT9d"
      },
      "execution_count": null,
      "outputs": []
    },
    {
      "cell_type": "code",
      "source": [
        "# model summury\n",
        "model.summary()"
      ],
      "metadata": {
        "colab": {
          "base_uri": "https://localhost:8080/"
        },
        "id": "-tBRociZKulj",
        "outputId": "5f39f65a-4816-4677-a73a-a4ab22dd724a"
      },
      "execution_count": null,
      "outputs": [
        {
          "output_type": "stream",
          "name": "stdout",
          "text": [
            "Model: \"model_6\"\n",
            "__________________________________________________________________________________________________\n",
            " Layer (type)                   Output Shape         Param #     Connected to                     \n",
            "==================================================================================================\n",
            " text (InputLayer)              [(None,)]            0           []                               \n",
            "                                                                                                  \n",
            " keras_layer_12 (KerasLayer)    {'input_mask': (Non  0           ['text[0][0]']                   \n",
            "                                e, 128),                                                          \n",
            "                                 'input_type_ids':                                                \n",
            "                                (None, 128),                                                      \n",
            "                                 'input_word_ids':                                                \n",
            "                                (None, 128)}                                                      \n",
            "                                                                                                  \n",
            " keras_layer_13 (KerasLayer)    {'default': (None,   109482241   ['keras_layer_12[0][0]',         \n",
            "                                768),                             'keras_layer_12[0][1]',         \n",
            "                                 'encoder_outputs':               'keras_layer_12[0][2]']         \n",
            "                                 [(None, 128, 768),                                               \n",
            "                                 (None, 128, 768),                                                \n",
            "                                 (None, 128, 768),                                                \n",
            "                                 (None, 128, 768),                                                \n",
            "                                 (None, 128, 768),                                                \n",
            "                                 (None, 128, 768),                                                \n",
            "                                 (None, 128, 768),                                                \n",
            "                                 (None, 128, 768),                                                \n",
            "                                 (None, 128, 768),                                                \n",
            "                                 (None, 128, 768),                                                \n",
            "                                 (None, 128, 768),                                                \n",
            "                                 (None, 128, 768)],                                               \n",
            "                                 'pooled_output': (                                               \n",
            "                                None, 768),                                                       \n",
            "                                 'sequence_output':                                               \n",
            "                                 (None, 128, 768)}                                                \n",
            "                                                                                                  \n",
            " output (Dense)                 (None, 1)            769         ['keras_layer_13[0][13]']        \n",
            "                                                                                                  \n",
            "==================================================================================================\n",
            "Total params: 109,483,010\n",
            "Trainable params: 769\n",
            "Non-trainable params: 109,482,241\n",
            "__________________________________________________________________________________________________\n"
          ]
        }
      ]
    },
    {
      "cell_type": "code",
      "source": [
        "# compile and train the model\n",
        "#from keras.optimizers.optimizer_v2.rmsprop\n",
        "model.compile(loss= 'binary_crossentropy', optimizer = 'adam', metrics=['acc'])\n",
        "model.fit(x_train, y_train, epochs=50, validation_split=0.10)"
      ],
      "metadata": {
        "colab": {
          "base_uri": "https://localhost:8080/"
        },
        "id": "KoHBM6e_Kxwj",
        "outputId": "83973cbc-9a19-4127-a499-0e22ae0c3683"
      },
      "execution_count": null,
      "outputs": [
        {
          "output_type": "stream",
          "name": "stdout",
          "text": [
            "Epoch 1/50\n",
            "23/23 [==============================] - 19s 392ms/step - loss: 0.6890 - acc: 0.5653 - val_loss: 0.6566 - val_acc: 0.6500\n",
            "Epoch 2/50\n",
            "23/23 [==============================] - 8s 370ms/step - loss: 0.6582 - acc: 0.6111 - val_loss: 0.6548 - val_acc: 0.6375\n",
            "Epoch 3/50\n",
            "23/23 [==============================] - 9s 375ms/step - loss: 0.6445 - acc: 0.6319 - val_loss: 0.6339 - val_acc: 0.6125\n",
            "Epoch 4/50\n",
            "23/23 [==============================] - 8s 369ms/step - loss: 0.6274 - acc: 0.6653 - val_loss: 0.6233 - val_acc: 0.6375\n",
            "Epoch 5/50\n",
            "23/23 [==============================] - 8s 363ms/step - loss: 0.6258 - acc: 0.6653 - val_loss: 0.6189 - val_acc: 0.6750\n",
            "Epoch 6/50\n",
            "23/23 [==============================] - 8s 357ms/step - loss: 0.6144 - acc: 0.6764 - val_loss: 0.6251 - val_acc: 0.6500\n",
            "Epoch 7/50\n",
            "23/23 [==============================] - 8s 356ms/step - loss: 0.6062 - acc: 0.6917 - val_loss: 0.5961 - val_acc: 0.7375\n",
            "Epoch 8/50\n",
            "23/23 [==============================] - 8s 354ms/step - loss: 0.5880 - acc: 0.7208 - val_loss: 0.5890 - val_acc: 0.7250\n",
            "Epoch 9/50\n",
            "23/23 [==============================] - 8s 353ms/step - loss: 0.5861 - acc: 0.7083 - val_loss: 0.5804 - val_acc: 0.7375\n",
            "Epoch 10/50\n",
            "23/23 [==============================] - 8s 354ms/step - loss: 0.5748 - acc: 0.7458 - val_loss: 0.5760 - val_acc: 0.7000\n",
            "Epoch 11/50\n",
            "23/23 [==============================] - 8s 355ms/step - loss: 0.5634 - acc: 0.7597 - val_loss: 0.5694 - val_acc: 0.7000\n",
            "Epoch 12/50\n",
            "23/23 [==============================] - 8s 358ms/step - loss: 0.5582 - acc: 0.7500 - val_loss: 0.5737 - val_acc: 0.7125\n",
            "Epoch 13/50\n",
            "23/23 [==============================] - 8s 360ms/step - loss: 0.5589 - acc: 0.7472 - val_loss: 0.5524 - val_acc: 0.7375\n",
            "Epoch 14/50\n",
            "23/23 [==============================] - 8s 360ms/step - loss: 0.5525 - acc: 0.7486 - val_loss: 0.5455 - val_acc: 0.7625\n",
            "Epoch 15/50\n",
            "23/23 [==============================] - 8s 361ms/step - loss: 0.5392 - acc: 0.7667 - val_loss: 0.5438 - val_acc: 0.7375\n",
            "Epoch 16/50\n",
            "23/23 [==============================] - 8s 358ms/step - loss: 0.5313 - acc: 0.7806 - val_loss: 0.5440 - val_acc: 0.7250\n",
            "Epoch 17/50\n",
            "23/23 [==============================] - 8s 357ms/step - loss: 0.5317 - acc: 0.7861 - val_loss: 0.5378 - val_acc: 0.7500\n",
            "Epoch 18/50\n",
            "23/23 [==============================] - 8s 357ms/step - loss: 0.5262 - acc: 0.7722 - val_loss: 0.5338 - val_acc: 0.7375\n",
            "Epoch 19/50\n",
            "23/23 [==============================] - 8s 357ms/step - loss: 0.5244 - acc: 0.7764 - val_loss: 0.5838 - val_acc: 0.7000\n",
            "Epoch 20/50\n",
            "23/23 [==============================] - 8s 355ms/step - loss: 0.5189 - acc: 0.7764 - val_loss: 0.5272 - val_acc: 0.7625\n",
            "Epoch 21/50\n",
            "23/23 [==============================] - 8s 356ms/step - loss: 0.5060 - acc: 0.7903 - val_loss: 0.5177 - val_acc: 0.7500\n",
            "Epoch 22/50\n",
            "23/23 [==============================] - 8s 355ms/step - loss: 0.4985 - acc: 0.8042 - val_loss: 0.5139 - val_acc: 0.7500\n",
            "Epoch 23/50\n",
            "23/23 [==============================] - 8s 355ms/step - loss: 0.4994 - acc: 0.7986 - val_loss: 0.5030 - val_acc: 0.7375\n",
            "Epoch 24/50\n",
            "23/23 [==============================] - 8s 356ms/step - loss: 0.4936 - acc: 0.7986 - val_loss: 0.4977 - val_acc: 0.7750\n",
            "Epoch 25/50\n",
            "23/23 [==============================] - 8s 356ms/step - loss: 0.4847 - acc: 0.8083 - val_loss: 0.4989 - val_acc: 0.7250\n",
            "Epoch 26/50\n",
            "23/23 [==============================] - 8s 358ms/step - loss: 0.4842 - acc: 0.8083 - val_loss: 0.4924 - val_acc: 0.7750\n",
            "Epoch 27/50\n",
            "23/23 [==============================] - 8s 358ms/step - loss: 0.4744 - acc: 0.8194 - val_loss: 0.4871 - val_acc: 0.7500\n",
            "Epoch 28/50\n",
            "23/23 [==============================] - 8s 358ms/step - loss: 0.4729 - acc: 0.8236 - val_loss: 0.5001 - val_acc: 0.7750\n",
            "Epoch 29/50\n",
            "23/23 [==============================] - 8s 358ms/step - loss: 0.4826 - acc: 0.7931 - val_loss: 0.4802 - val_acc: 0.8000\n",
            "Epoch 30/50\n",
            "23/23 [==============================] - 8s 358ms/step - loss: 0.4676 - acc: 0.8181 - val_loss: 0.4823 - val_acc: 0.7500\n",
            "Epoch 31/50\n",
            "23/23 [==============================] - 8s 357ms/step - loss: 0.4661 - acc: 0.8236 - val_loss: 0.4726 - val_acc: 0.7875\n",
            "Epoch 32/50\n",
            "23/23 [==============================] - 8s 358ms/step - loss: 0.4560 - acc: 0.8250 - val_loss: 0.4700 - val_acc: 0.8000\n",
            "Epoch 33/50\n",
            "23/23 [==============================] - 8s 356ms/step - loss: 0.4529 - acc: 0.8403 - val_loss: 0.4900 - val_acc: 0.7750\n",
            "Epoch 34/50\n",
            "23/23 [==============================] - 8s 357ms/step - loss: 0.4531 - acc: 0.8278 - val_loss: 0.4727 - val_acc: 0.7500\n",
            "Epoch 35/50\n",
            "23/23 [==============================] - 8s 358ms/step - loss: 0.4510 - acc: 0.8264 - val_loss: 0.4806 - val_acc: 0.7625\n",
            "Epoch 36/50\n",
            "23/23 [==============================] - 8s 359ms/step - loss: 0.4458 - acc: 0.8389 - val_loss: 0.4657 - val_acc: 0.7625\n",
            "Epoch 37/50\n",
            "23/23 [==============================] - 8s 356ms/step - loss: 0.4416 - acc: 0.8278 - val_loss: 0.4570 - val_acc: 0.7750\n",
            "Epoch 38/50\n",
            "23/23 [==============================] - 8s 358ms/step - loss: 0.4415 - acc: 0.8389 - val_loss: 0.4628 - val_acc: 0.7625\n",
            "Epoch 39/50\n",
            "23/23 [==============================] - 8s 358ms/step - loss: 0.4331 - acc: 0.8472 - val_loss: 0.4495 - val_acc: 0.7625\n",
            "Epoch 40/50\n",
            "23/23 [==============================] - 8s 357ms/step - loss: 0.4309 - acc: 0.8403 - val_loss: 0.4486 - val_acc: 0.7875\n",
            "Epoch 41/50\n",
            "23/23 [==============================] - 8s 365ms/step - loss: 0.4283 - acc: 0.8375 - val_loss: 0.4566 - val_acc: 0.7750\n",
            "Epoch 42/50\n",
            "23/23 [==============================] - 8s 357ms/step - loss: 0.4242 - acc: 0.8472 - val_loss: 0.4442 - val_acc: 0.8000\n",
            "Epoch 43/50\n",
            "23/23 [==============================] - 8s 358ms/step - loss: 0.4287 - acc: 0.8444 - val_loss: 0.4433 - val_acc: 0.7750\n",
            "Epoch 44/50\n",
            "23/23 [==============================] - 8s 355ms/step - loss: 0.4206 - acc: 0.8486 - val_loss: 0.4442 - val_acc: 0.7750\n",
            "Epoch 45/50\n",
            "23/23 [==============================] - 8s 357ms/step - loss: 0.4156 - acc: 0.8556 - val_loss: 0.4355 - val_acc: 0.7875\n",
            "Epoch 46/50\n",
            "23/23 [==============================] - 8s 355ms/step - loss: 0.4113 - acc: 0.8556 - val_loss: 0.4493 - val_acc: 0.8000\n",
            "Epoch 47/50\n",
            "23/23 [==============================] - 8s 357ms/step - loss: 0.4111 - acc: 0.8611 - val_loss: 0.4318 - val_acc: 0.8000\n",
            "Epoch 48/50\n",
            "23/23 [==============================] - 8s 357ms/step - loss: 0.4077 - acc: 0.8611 - val_loss: 0.4311 - val_acc: 0.8000\n",
            "Epoch 49/50\n",
            "23/23 [==============================] - 8s 357ms/step - loss: 0.4125 - acc: 0.8458 - val_loss: 0.4313 - val_acc: 0.7750\n",
            "Epoch 50/50\n",
            "23/23 [==============================] - 8s 355ms/step - loss: 0.4112 - acc: 0.8556 - val_loss: 0.4239 - val_acc: 0.8000\n"
          ]
        },
        {
          "output_type": "execute_result",
          "data": {
            "text/plain": [
              "<keras.callbacks.History at 0x7f0ad6f2a950>"
            ]
          },
          "metadata": {},
          "execution_count": 98
        }
      ]
    },
    {
      "cell_type": "markdown",
      "source": [
        "## Prediction and evalution BERT model"
      ],
      "metadata": {
        "id": "GFddz-BcPMVg"
      }
    },
    {
      "cell_type": "code",
      "source": [
        "from sklearn.metrics import confusion_matrix, classification_report, accuracy_score\n",
        "import numpy as np"
      ],
      "metadata": {
        "id": "Kzv8VnLaLoFS"
      },
      "execution_count": null,
      "outputs": []
    },
    {
      "cell_type": "code",
      "source": [
        "pred = model.predict(x_test).flatten().round()\n",
        "pred"
      ],
      "metadata": {
        "colab": {
          "base_uri": "https://localhost:8080/"
        },
        "id": "XfvNWPc5Pe35",
        "outputId": "fd1ffd84-bbc1-4217-8168-d2d28cd86aa2"
      },
      "execution_count": null,
      "outputs": [
        {
          "output_type": "stream",
          "name": "stdout",
          "text": [
            "7/7 [==============================] - 3s 316ms/step\n"
          ]
        },
        {
          "output_type": "execute_result",
          "data": {
            "text/plain": [
              "array([1., 0., 0., 1., 0., 1., 0., 0., 0., 0., 0., 1., 1., 0., 0., 1., 0.,\n",
              "       0., 0., 1., 1., 0., 0., 0., 0., 0., 1., 0., 0., 1., 1., 0., 1., 1.,\n",
              "       1., 0., 0., 0., 0., 1., 0., 1., 0., 0., 0., 1., 1., 1., 1., 0., 1.,\n",
              "       1., 0., 1., 0., 1., 1., 1., 1., 1., 1., 1., 1., 1., 1., 0., 0., 1.,\n",
              "       0., 1., 1., 1., 0., 1., 0., 1., 1., 1., 1., 1., 0., 0., 1., 1., 1.,\n",
              "       0., 1., 1., 0., 1., 0., 1., 1., 1., 1., 1., 1., 0., 1., 0., 1., 0.,\n",
              "       0., 0., 1., 1., 0., 0., 0., 1., 0., 0., 0., 0., 1., 1., 1., 1., 0.,\n",
              "       0., 1., 1., 1., 1., 1., 0., 1., 0., 0., 1., 0., 0., 0., 0., 0., 0.,\n",
              "       0., 1., 0., 0., 0., 0., 1., 1., 1., 0., 1., 0., 0., 0., 1., 1., 0.,\n",
              "       1., 0., 0., 1., 0., 1., 0., 1., 1., 1., 1., 0., 0., 0., 0., 1., 0.,\n",
              "       0., 1., 0., 0., 1., 0., 0., 0., 0., 0., 0., 1., 0., 1., 0., 1., 1.,\n",
              "       1., 0., 0., 0., 1., 1., 1., 1., 0., 0., 1., 0., 1.], dtype=float32)"
            ]
          },
          "metadata": {},
          "execution_count": 100
        }
      ]
    },
    {
      "cell_type": "code",
      "source": [
        "# Confusion metrics\n",
        "confusion_matrix(y_test, pred)"
      ],
      "metadata": {
        "colab": {
          "base_uri": "https://localhost:8080/"
        },
        "id": "0VEwKQrhPzAz",
        "outputId": "3b640921-a712-40ac-e28e-8a0abd2d83ab"
      },
      "execution_count": null,
      "outputs": [
        {
          "output_type": "execute_result",
          "data": {
            "text/plain": [
              "array([[85, 19],\n",
              "       [16, 80]])"
            ]
          },
          "metadata": {},
          "execution_count": 101
        }
      ]
    },
    {
      "cell_type": "code",
      "source": [
        "# Classification report\n",
        "print(classification_report(y_test, pred))"
      ],
      "metadata": {
        "colab": {
          "base_uri": "https://localhost:8080/"
        },
        "id": "LbXcputiRd-h",
        "outputId": "d49ebabe-2be3-46fb-bfd3-cb9e22193d26"
      },
      "execution_count": null,
      "outputs": [
        {
          "output_type": "stream",
          "name": "stdout",
          "text": [
            "              precision    recall  f1-score   support\n",
            "\n",
            "           0       0.84      0.82      0.83       104\n",
            "           1       0.81      0.83      0.82        96\n",
            "\n",
            "    accuracy                           0.82       200\n",
            "   macro avg       0.82      0.83      0.82       200\n",
            "weighted avg       0.83      0.82      0.83       200\n",
            "\n"
          ]
        }
      ]
    },
    {
      "cell_type": "code",
      "source": [
        "# accuracy score\n",
        "accuracy_score(y_test, pred)"
      ],
      "metadata": {
        "colab": {
          "base_uri": "https://localhost:8080/"
        },
        "id": "KaaAa7R5RwS2",
        "outputId": "fce48703-b628-4487-a260-360a4c24da01"
      },
      "execution_count": null,
      "outputs": [
        {
          "output_type": "execute_result",
          "data": {
            "text/plain": [
              "0.825"
            ]
          },
          "metadata": {},
          "execution_count": 103
        }
      ]
    },
    {
      "cell_type": "code",
      "source": [],
      "metadata": {
        "id": "PqN5IRJ0Swk3"
      },
      "execution_count": null,
      "outputs": []
    }
  ]
}