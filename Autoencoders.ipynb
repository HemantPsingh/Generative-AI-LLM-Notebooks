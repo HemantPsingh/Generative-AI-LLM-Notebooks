{
  "nbformat": 4,
  "nbformat_minor": 0,
  "metadata": {
    "colab": {
      "provenance": []
    },
    "kernelspec": {
      "name": "python3",
      "display_name": "Python 3"
    },
    "language_info": {
      "name": "python"
    },
    "accelerator": "GPU"
  },
  "cells": [
    {
      "cell_type": "code",
      "metadata": {
        "id": "20hDuTKHX2KO"
      },
      "source": [
        "# Importing required libraries\n",
        "from keras.models import Sequential\n",
        "from keras.layers import Dense,Conv2D,MaxPooling2D,UpSampling2D\n",
        "from keras import Input, Model\n",
        "from keras.datasets import mnist\n",
        "\n",
        "import numpy as np\n",
        "import matplotlib.pyplot as plt"
      ],
      "execution_count": null,
      "outputs": []
    },
    {
      "cell_type": "markdown",
      "source": [
        "# Reading the dataset"
      ],
      "metadata": {
        "id": "BgrVTx0G5vV5"
      }
    },
    {
      "cell_type": "code",
      "metadata": {
        "id": "2oMtkfA3cv3n",
        "colab": {
          "base_uri": "https://localhost:8080/"
        },
        "outputId": "06a5751a-91a2-4386-d384-aa69b7551fbd"
      },
      "source": [
        "# Downloading the data\n",
        "(x_train, y_train), (x_test, y_test) = mnist.load_data()"
      ],
      "execution_count": null,
      "outputs": [
        {
          "output_type": "stream",
          "name": "stdout",
          "text": [
            "Downloading data from https://storage.googleapis.com/tensorflow/tf-keras-datasets/mnist.npz\n",
            "11493376/11490434 [==============================] - 0s 0us/step\n",
            "11501568/11490434 [==============================] - 0s 0us/step\n"
          ]
        }
      ]
    },
    {
      "cell_type": "markdown",
      "metadata": {
        "id": "yg5U1i5alQxz"
      },
      "source": [
        "# Introducing noise to the images"
      ]
    },
    {
      "cell_type": "code",
      "metadata": {
        "id": "ZC7XYfqCR2Bs"
      },
      "source": [
        "# Adding noise to images\n",
        "noise_factor = 0.7\n",
        "x_train_noisy = x_train + noise_factor * np.random.normal(loc=0.0, scale=1.0, size=x_train.shape)\n",
        "x_test_noisy = x_test + noise_factor * np.random.normal(loc=0.0, scale=1.0, size=x_test.shape)\n",
        "\n",
        "x_train_noisy = np.clip(x_train_noisy, 0., 1.)\n",
        "x_test_noisy = np.clip(x_test_noisy, 0., 1.)"
      ],
      "execution_count": null,
      "outputs": []
    },
    {
      "cell_type": "code",
      "metadata": {
        "id": "c3jHVn2kR6in",
        "colab": {
          "base_uri": "https://localhost:8080/",
          "height": 143
        },
        "outputId": "c4f9b98b-1c58-4486-d78c-86b8010a8743"
      },
      "source": [
        "# Plotting some noisy images\n",
        "plt.figure(figsize=(20, 2))\n",
        "for i in range(1, 5 + 1):\n",
        "    ax = plt.subplot(1, 5, i)\n",
        "    plt.imshow(x_test_noisy[i].reshape(28, 28))\n",
        "    plt.gray()\n",
        "    ax.get_xaxis().set_visible(False)\n",
        "    ax.get_yaxis().set_visible(False)\n",
        "plt.show()"
      ],
      "execution_count": null,
      "outputs": [
        {
          "output_type": "display_data",
          "data": {
            "text/plain": [
              "<Figure size 1440x144 with 5 Axes>"
            ],
            "image/png": "[encoded data removed]"
          },
          "metadata": {
            "needs_background": "light"
          }
        }
      ]
    },
    {
      "cell_type": "markdown",
      "source": [
        "# Defining the Autoencoder"
      ],
      "metadata": {
        "id": "t2Z-dyt6513K"
      }
    },
    {
      "cell_type": "code",
      "metadata": {
        "id": "uyI6mQGblhOz"
      },
      "source": [
        "# Defining autoencoder\n",
        "\n",
        "model = Sequential()\n",
        "\n",
        "# Encoder network\n",
        "\n",
        "model.add(Conv2D(35, 3, activation= 'relu', padding='same', input_shape = (28,28,1)))\n",
        "model.add(MaxPooling2D(2, padding= 'same'))\n",
        "model.add(Conv2D(25, 3, activation= 'relu', padding='same'))\n",
        "model.add(MaxPooling2D(2, padding= 'same'))\n",
        "\n",
        "# Decoder network\n",
        "\n",
        "model.add(Conv2D(25, 3, activation= 'relu', padding='same'))\n",
        "model.add(UpSampling2D(2))\n",
        "model.add(Conv2D(35, 3, activation= 'relu', padding='same'))\n",
        "model.add(UpSampling2D(2))\n",
        "model.add(Conv2D(1,3,activation='sigmoid', padding= 'same')) # output layer\n",
        "\n",
        "model.compile(optimizer= 'adam', loss = 'binary_crossentropy')"
      ],
      "execution_count": null,
      "outputs": []
    },
    {
      "cell_type": "code",
      "source": [
        "model.summary()"
      ],
      "metadata": {
        "id": "J9319Cyz9M4A",
        "colab": {
          "base_uri": "https://localhost:8080/"
        },
        "outputId": "b15f8a47-4159-4d56-bd6e-b1e332224ce9"
      },
      "execution_count": null,
      "outputs": [
        {
          "output_type": "stream",
          "name": "stdout",
          "text": [
            "Model: \"sequential\"\n",
            "_________________________________________________________________\n",
            " Layer (type)                Output Shape              Param #   \n",
            "=================================================================\n",
            " conv2d (Conv2D)             (None, 28, 28, 35)        350       \n",
            "                                                                 \n",
            " max_pooling2d (MaxPooling2D  (None, 14, 14, 35)       0         \n",
            " )                                                               \n",
            "                                                                 \n",
            " conv2d_1 (Conv2D)           (None, 14, 14, 25)        7900      \n",
            "                                                                 \n",
            " max_pooling2d_1 (MaxPooling  (None, 7, 7, 25)         0         \n",
            " 2D)                                                             \n",
            "                                                                 \n",
            " conv2d_2 (Conv2D)           (None, 7, 7, 25)          5650      \n",
            "                                                                 \n",
            " up_sampling2d (UpSampling2D  (None, 14, 14, 25)       0         \n",
            " )                                                               \n",
            "                                                                 \n",
            " conv2d_3 (Conv2D)           (None, 14, 14, 35)        7910      \n",
            "                                                                 \n",
            " up_sampling2d_1 (UpSampling  (None, 28, 28, 35)       0         \n",
            " 2D)                                                             \n",
            "                                                                 \n",
            " conv2d_4 (Conv2D)           (None, 28, 28, 1)         316       \n",
            "                                                                 \n",
            "=================================================================\n",
            "Total params: 22,126\n",
            "Trainable params: 22,126\n",
            "Non-trainable params: 0\n",
            "_________________________________________________________________\n"
          ]
        }
      ]
    },
    {
      "cell_type": "markdown",
      "source": [
        "# Training the Autoencoder"
      ],
      "metadata": {
        "id": "E0uy53R25460"
      }
    },
    {
      "cell_type": "code",
      "metadata": {
        "id": "97ptfXAFmDzC",
        "colab": {
          "base_uri": "https://localhost:8080/"
        },
        "outputId": "b553bcbe-003d-49d3-fe24-a71d6b64795d"
      },
      "source": [
        "# Training the autoencoder\n",
        "model.fit(x_train_noisy, x_train,\n",
        "                epochs=15,\n",
        "                batch_size=128,\n",
        "                validation_data=(x_test_noisy, x_test))"
      ],
      "execution_count": null,
      "outputs": [
        {
          "output_type": "stream",
          "name": "stdout",
          "text": [
            "Epoch 1/15\n",
            "469/469 [==============================] - 16s 9ms/step - loss: -485.1426 - val_loss: -508.0681\n",
            "Epoch 2/15\n",
            "469/469 [==============================] - 4s 8ms/step - loss: -501.9418 - val_loss: -509.7198\n",
            "Epoch 3/15\n",
            "469/469 [==============================] - 4s 8ms/step - loss: -502.7858 - val_loss: -510.3387\n",
            "Epoch 4/15\n",
            "469/469 [==============================] - 4s 8ms/step - loss: -503.3001 - val_loss: -510.7036\n",
            "Epoch 5/15\n",
            "469/469 [==============================] - 4s 8ms/step - loss: -503.5251 - val_loss: -510.8406\n",
            "Epoch 6/15\n",
            "469/469 [==============================] - 4s 8ms/step - loss: -503.6996 - val_loss: -511.0139\n",
            "Epoch 7/15\n",
            "469/469 [==============================] - 4s 8ms/step - loss: -503.8268 - val_loss: -511.0971\n",
            "Epoch 8/15\n",
            "469/469 [==============================] - 4s 8ms/step - loss: -503.9319 - val_loss: -511.1726\n",
            "Epoch 9/15\n",
            "469/469 [==============================] - 4s 8ms/step - loss: -503.9924 - val_loss: -511.2249\n",
            "Epoch 10/15\n",
            "469/469 [==============================] - 4s 9ms/step - loss: -504.0489 - val_loss: -511.2849\n",
            "Epoch 11/15\n",
            "469/469 [==============================] - 4s 8ms/step - loss: -504.0997 - val_loss: -511.3272\n",
            "Epoch 12/15\n",
            "469/469 [==============================] - 4s 8ms/step - loss: -504.1351 - val_loss: -511.3600\n",
            "Epoch 13/15\n",
            "469/469 [==============================] - 4s 8ms/step - loss: -504.1790 - val_loss: -511.3880\n",
            "Epoch 14/15\n",
            "469/469 [==============================] - 4s 8ms/step - loss: -504.2138 - val_loss: -511.4215\n",
            "Epoch 15/15\n",
            "469/469 [==============================] - 4s 8ms/step - loss: -504.2475 - val_loss: -511.4472\n"
          ]
        },
        {
          "output_type": "execute_result",
          "data": {
            "text/plain": [
              "<keras.callbacks.History at 0x7f8aca8e9710>"
            ]
          },
          "metadata": {},
          "execution_count": 7
        }
      ]
    },
    {
      "cell_type": "markdown",
      "source": [
        "# Generating denoised images"
      ],
      "metadata": {
        "id": "jbMJK0OU58LQ"
      }
    },
    {
      "cell_type": "code",
      "metadata": {
        "id": "9WWgU8x3mN6d"
      },
      "source": [
        "# Making predictions with trained autoencoder to generate denoised image\n",
        "pred = model.predict(x_test_noisy)"
      ],
      "execution_count": null,
      "outputs": []
    },
    {
      "cell_type": "code",
      "metadata": {
        "id": "y9x6hgAtm5bN",
        "colab": {
          "base_uri": "https://localhost:8080/",
          "height": 252
        },
        "outputId": "ce0d6fc7-1a50-495d-ed06-a4e1caa1579e"
      },
      "source": [
        "# Checking results\n",
        "plt.figure(figsize=(20, 4))\n",
        "for i in range(5):\n",
        "    # Display original\n",
        "    ax = plt.subplot(2, 5, i + 1)\n",
        "    plt.imshow(x_test_noisy[i].reshape(28, 28))\n",
        "    plt.gray()\n",
        "    ax.get_xaxis().set_visible(False)\n",
        "    ax.get_yaxis().set_visible(False)\n",
        "    # Display reconstruction\n",
        "    ax = plt.subplot(2, 5, i + 1 + 5)\n",
        "    plt.imshow(pred[i].reshape(28, 28))\n",
        "    plt.gray()\n",
        "    ax.get_xaxis().set_visible(False)\n",
        "    ax.get_yaxis().set_visible(False)\n",
        "plt.show()"
      ],
      "execution_count": null,
      "outputs": [
        {
          "output_type": "display_data",
          "data": {
            "text/plain": [
              "<Figure size 1440x288 with 10 Axes>"
            ],
            "image/png": "[encoded data removed]"
          },
          "metadata": {
            "needs_background": "light"
          }
        }
      ]
    }
  ]
}